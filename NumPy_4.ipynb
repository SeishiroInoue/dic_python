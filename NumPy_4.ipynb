{
  "nbformat": 4,
  "nbformat_minor": 0,
  "metadata": {
    "colab": {
      "name": "NumPy_4.ipynb",
      "provenance": [],
      "authorship_tag": "ABX9TyNZylE5M5ZJm1G/UW/grdB6",
      "include_colab_link": true
    },
    "kernelspec": {
      "name": "python3",
      "display_name": "Python 3"
    },
    "language_info": {
      "name": "python"
    }
  },
  "cells": [
    {
      "cell_type": "markdown",
      "metadata": {
        "id": "view-in-github",
        "colab_type": "text"
      },
      "source": [
        "<a href=\"https://colab.research.google.com/github/SeishiroInoue/diveintocode_machine_learning/blob/main/NumPy_4.ipynb\" target=\"_parent\"><img src=\"https://colab.research.google.com/assets/colab-badge.svg\" alt=\"Open In Colab\"/></a>"
      ]
    },
    {
      "cell_type": "code",
      "execution_count": 34,
      "metadata": {
        "id": "QYRTK3-Py91k"
      },
      "outputs": [],
      "source": [
        "# 問題1\n",
        "\n",
        "import numpy as np\n",
        "\n",
        "k= 0.1\n",
        "x = np.arange(-50, 50+k, k)\n",
        "y = 0.5*x + 1"
      ]
    },
    {
      "cell_type": "code",
      "source": [
        "# 問題2\n",
        "\n",
        "x = x.reshape(len(x), 1)\n",
        "y = y.reshape(len(y), 1)\n",
        "\n",
        "x_y = np.hstack((x, y))\n",
        "x_y.shape"
      ],
      "metadata": {
        "id": "GNH9QyBM0Z0e",
        "colab": {
          "base_uri": "https://localhost:8080/"
        },
        "outputId": "828f0a30-a45c-46ca-f781-b672f0e12e2c"
      },
      "execution_count": 25,
      "outputs": [
        {
          "output_type": "execute_result",
          "data": {
            "text/plain": [
              "(1001, 2)"
            ]
          },
          "metadata": {},
          "execution_count": 25
        }
      ]
    },
    {
      "cell_type": "code",
      "source": [
        "# 問題3\n",
        "\n",
        "x_change = k\n",
        "y_change = y[1:] - y[:-1]\n",
        "\n",
        "gradient =  y_change/x_change"
      ],
      "metadata": {
        "colab": {
          "base_uri": "https://localhost:8080/"
        },
        "id": "lL07WVFh-XZa",
        "outputId": "e131c578-fea8-47fc-e148-c627fef44eec"
      },
      "execution_count": 32,
      "outputs": [
        {
          "output_type": "execute_result",
          "data": {
            "text/plain": [
              "(1000, 1)"
            ]
          },
          "metadata": {},
          "execution_count": 32
        }
      ]
    },
    {
      "cell_type": "code",
      "source": [
        "# 問題4\n",
        "\n",
        "import matplotlib.pyplot as plt\n",
        "\n",
        "plt.title('linear function')\n",
        "plt.xlabel('x')\n",
        "plt.ylabel('y')\n",
        "plt.plot(x, y)\n",
        "plt.show()"
      ],
      "metadata": {
        "colab": {
          "base_uri": "https://localhost:8080/",
          "height": 295
        },
        "id": "vFRJnWgCKg-M",
        "outputId": "8de3e4c0-3f33-4567-c309-a82c2076e1ed"
      },
      "execution_count": 42,
      "outputs": [
        {
          "output_type": "display_data",
          "data": {
            "text/plain": [
              "<Figure size 432x288 with 1 Axes>"
            ],
            "image/png": "[encoded data removed]"
          },
          "metadata": {
            "needs_background": "light"
          }
        }
      ]
    },
    {
      "cell_type": "code",
      "source": [
        "plt.title('change of gradientnt')\n",
        "plt.xlabel('x')\n",
        "plt.ylabel('gradient')\n",
        "plt.ylim(0,1)\n",
        "plt.plot(x[:-1], gradient[:,0])\n",
        "plt.show()"
      ],
      "metadata": {
        "colab": {
          "base_uri": "https://localhost:8080/",
          "height": 295
        },
        "id": "2Z6SAiqDVCY3",
        "outputId": "dd4f6a53-805d-4124-ebc0-ea0e696875a9"
      },
      "execution_count": 43,
      "outputs": [
        {
          "output_type": "display_data",
          "data": {
            "text/plain": [
              "<Figure size 432x288 with 1 Axes>"
            ],
            "image/png": "[encoded data removed]"
          },
          "metadata": {
            "needs_background": "light"
          }
        }
      ]
    },
    {
      "cell_type": "code",
      "source": [
        "# 問題5\n",
        "\n",
        "\"\"\"\n",
        "問題1から問題3までの範囲をまとめて行うPythonの関数\n",
        "\"\"\"\n",
        "def compute_gradient(function, x_range=(-50, 50.1, 0.1)):\n",
        "    \"\"\"\n",
        "    変化量を使い勾配を計算する。\n",
        "\n",
        "    Parameters\n",
        "    ----------------\n",
        "    function : function\n",
        "      求めたい関数、xのndarrayを入れるとyのndarrayを返すもの。\n",
        "    x_range : tuple\n",
        "      np.arange()の引数と同じ方法で範囲を指定する。\n",
        "\n",
        "    Returns\n",
        "    ----------------\n",
        "    array_xy : ndarray, shape(n, 2)\n",
        "      xとyを結合したもの。nはx_rangeに依存する。\n",
        "    gradient : ndarray, shape(n-1,)\n",
        "      関数の勾配。差をとるため要素は1つ減る\n",
        "    \"\"\"\n",
        "    x = np.arange(*x_range)\n",
        "    x1 = x.reshape(len(x),1)\n",
        "    y1 = function(x1)\n",
        "    x_change = x[1:] - x[:-1]\n",
        "    y_change = y[1:] - y[:-1]\n",
        "    array_xy = np.hstack((x1, y1))\n",
        "    gradient =  y_change/x_change\n",
        "    \n",
        "    return array_xy, gradient, y1"
      ],
      "metadata": {
        "id": "68QpxdDfVGur"
      },
      "execution_count": 76,
      "outputs": []
    },
    {
      "cell_type": "code",
      "source": [
        "\"\"\"\n",
        "function0\n",
        "\"\"\"\n",
        "def function0(array_x):\n",
        "  return array_x/2 + 1\n",
        "\n",
        "array_xy, gradient, y1 = compute_gradient(function0)\n",
        "\n",
        "plt.title('function0')\n",
        "plt.xlabel('x')\n",
        "plt.ylabel('y')\n",
        "plt.plot(array_xy[:, 0], array_xy[:, 1])\n",
        "plt.show()\n",
        "\n",
        "plt.title('function0')\n",
        "plt.xlabel('x')\n",
        "plt.ylabel('y')\n",
        "plt.plot(array_xy[:-1, 0], gradient)\n",
        "plt.show()"
      ],
      "metadata": {
        "colab": {
          "base_uri": "https://localhost:8080/",
          "height": 573
        },
        "id": "mgQYLIObfUGh",
        "outputId": "9fda2954-dc59-4bb6-a4f3-b8cc20389468"
      },
      "execution_count": 77,
      "outputs": [
        {
          "output_type": "display_data",
          "data": {
            "text/plain": [
              "<Figure size 432x288 with 1 Axes>"
            ],
            "image/png": "[encoded data removed]"
          },
          "metadata": {
            "needs_background": "light"
          }
        },
        {
          "output_type": "display_data",
          "data": {
            "text/plain": [
              "<Figure size 432x288 with 1 Axes>"
            ],
            "image/png": "[encoded data removed]"
          },
          "metadata": {
            "needs_background": "light"
          }
        }
      ]
    },
    {
      "cell_type": "code",
      "source": [
        "\"\"\"\n",
        "function1\n",
        "\"\"\"\n",
        "def function1(array_x):\n",
        "  return 2*array_x**2 + 2**array_x\n",
        "\n",
        "array_xy, gradient, y1 = compute_gradient(function1)\n",
        "\n",
        "plt.title('function1')\n",
        "plt.xlabel('x')\n",
        "plt.ylabel('y')\n",
        "plt.plot(array_xy[:, 0], array_xy[:, 1])\n",
        "plt.show()\n",
        "\n",
        "plt.title('function1')\n",
        "plt.xlabel('x')\n",
        "plt.ylabel('y')\n",
        "plt.plot(array_xy[:-1, 0], gradient)\n",
        "plt.show()"
      ],
      "metadata": {
        "colab": {
          "base_uri": "https://localhost:8080/",
          "height": 573
        },
        "id": "fKmt_GDwow4r",
        "outputId": "b967e93e-24d6-4240-c736-966e0ecdb6b7"
      },
      "execution_count": 79,
      "outputs": [
        {
          "output_type": "display_data",
          "data": {
            "text/plain": [
              "<Figure size 432x288 with 1 Axes>"
            ],
            "image/png": "[encoded data removed]"
          },
          "metadata": {
            "needs_background": "light"
          }
        },
        {
          "output_type": "display_data",
          "data": {
            "text/plain": [
              "<Figure size 432x288 with 1 Axes>"
            ],
            "image/png": "[encoded data removed]"
          },
          "metadata": {
            "needs_background": "light"
          }
        }
      ]
    },
    {
      "cell_type": "code",
      "source": [
        "\"\"\"\n",
        "function2\n",
        "\"\"\" \n",
        "def function2(array_x):\n",
        "  return np.sin(array_x**0.5)\n",
        "\n",
        "array_xy, gradient, y1 = compute_gradient(function2)\n",
        "\n",
        "plt.title('function2')\n",
        "plt.xlabel('x')\n",
        "plt.ylabel('y')\n",
        "plt.plot(array_xy[:, 0], array_xy[:, 1])\n",
        "plt.show()\n",
        "\n",
        "plt.title('function2')\n",
        "plt.xlabel('x')\n",
        "plt.ylabel('y')\n",
        "plt.plot(array_xy[:-1, 0], gradient)\n",
        "plt.show()"
      ],
      "metadata": {
        "colab": {
          "base_uri": "https://localhost:8080/",
          "height": 608
        },
        "id": "Olrz8fezrQ8U",
        "outputId": "96ab3499-2b9e-473c-a97b-e610e9c801ee"
      },
      "execution_count": 80,
      "outputs": [
        {
          "output_type": "stream",
          "name": "stderr",
          "text": [
            "/usr/local/lib/python3.7/dist-packages/ipykernel_launcher.py:5: RuntimeWarning: invalid value encountered in sqrt\n",
            "  \"\"\"\n"
          ]
        },
        {
          "output_type": "display_data",
          "data": {
            "text/plain": [
              "<Figure size 432x288 with 1 Axes>"
            ],
            "image/png": "[encoded data removed]"
          },
          "metadata": {
            "needs_background": "light"
          }
        },
        {
          "output_type": "display_data",
          "data": {
            "text/plain": [
              "<Figure size 432x288 with 1 Axes>"
            ],
            "image/png": "[encoded data removed]"
          },
          "metadata": {
            "needs_background": "light"
          }
        }
      ]
    },
    {
      "cell_type": "code",
      "source": [
        "# 問題6\n",
        "\n",
        "\"\"\"\n",
        "function0\n",
        "\"\"\"\n",
        "m_xy, m_gradient, m_y = compute_gradient(function0)\n",
        "print('yの最小値は{}'.format(np.min(m_y)))\n",
        "print('その時のインデックスは{}'.format(np.argmin(m_gradient)))\n",
        "print('最小値前後の勾配は、前{}、後{}'.format(m_gradient[m_xy[:,1].argmin()-1], m_gradient[m_xy[:,1].argmin()+1]))"
      ],
      "metadata": {
        "colab": {
          "base_uri": "https://localhost:8080/"
        },
        "id": "Tx3BEQdqr8xW",
        "outputId": "b25c62f3-2333-4b9e-b41f-56e3d0c74aff"
      },
      "execution_count": 66,
      "outputs": [
        {
          "output_type": "stream",
          "name": "stdout",
          "text": [
            "yの最小値は-24.0\n",
            "その時のインデックスは0\n",
            "最小値前後の勾配は、前0.5、後0.5\n"
          ]
        }
      ]
    },
    {
      "cell_type": "code",
      "source": [
        "\"\"\"\n",
        "function1\n",
        "\"\"\"\n",
        "m_xy, m_gradient, m_y = compute_gradient(function1)\n",
        "print('yの最小値は{}'.format(np.min(m_y)))\n",
        "print('その時のインデックスは{}'.format(np.argmin(m_gradient)))\n",
        "print('最小値前後の勾配は、前{}、後{}'.format(m_gradient[m_xy[:,1].argmin()-1], m_gradient[m_xy[:,1].argmin()+1]))"
      ],
      "metadata": {
        "colab": {
          "base_uri": "https://localhost:8080/"
        },
        "id": "iQQWxcxdz4Iw",
        "outputId": "0c9780f8-4d6a-4883-896f-d0afc105921e"
      },
      "execution_count": 81,
      "outputs": [
        {
          "output_type": "stream",
          "name": "stdout",
          "text": [
            "yの最小値は0.9505505632959851\n",
            "その時のインデックスは0\n",
            "最小値前後の勾配は、前0.5、後0.5\n"
          ]
        }
      ]
    },
    {
      "cell_type": "code",
      "source": [
        "\"\"\"\n",
        "function2\n",
        "\"\"\"\n",
        "m_xy, m_gradient, m_y = compute_gradient(function2)\n",
        "print('yの最小値は{}'.format(np.min(m_y)))\n",
        "print('その時のインデックスは{}'.format(np.argmin(m_gradient)))\n",
        "print('最小値前後の勾配は、前{}、後{}'.format(m_gradient[m_xy[:,1].argmin()-1], m_gradient[m_xy[:,1].argmin()+1]))"
      ],
      "metadata": {
        "colab": {
          "base_uri": "https://localhost:8080/"
        },
        "id": "7WK3rej_8dQr",
        "outputId": "4b8cccd2-1f82-4e6a-e958-ee0b8905758e"
      },
      "execution_count": 83,
      "outputs": [
        {
          "output_type": "stream",
          "name": "stdout",
          "text": [
            "yの最小値はnan\n",
            "その時のインデックスは0\n",
            "最小値前後の勾配は、前0.5、後0.5\n"
          ]
        },
        {
          "output_type": "stream",
          "name": "stderr",
          "text": [
            "/usr/local/lib/python3.7/dist-packages/ipykernel_launcher.py:5: RuntimeWarning: invalid value encountered in sqrt\n",
            "  \"\"\"\n"
          ]
        }
      ]
    }
  ]
}