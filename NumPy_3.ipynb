{
  "nbformat": 4,
  "nbformat_minor": 0,
  "metadata": {
    "colab": {
      "name": "NumPy_3.ipynb",
      "provenance": [],
      "authorship_tag": "ABX9TyNMBw23fgbxjzIGrbeAGJv3",
      "include_colab_link": true
    },
    "kernelspec": {
      "name": "python3",
      "display_name": "Python 3"
    },
    "language_info": {
      "name": "python"
    }
  },
  "cells": [
    {
      "cell_type": "markdown",
      "metadata": {
        "id": "view-in-github",
        "colab_type": "text"
      },
      "source": [
        "<a href=\"https://colab.research.google.com/github/SeishiroInoue/diveintocode_machine_learning/blob/main/NumPy_3.ipynb\" target=\"_parent\"><img src=\"https://colab.research.google.com/assets/colab-badge.svg\" alt=\"Open In Colab\"/></a>"
      ]
    },
    {
      "cell_type": "code",
      "execution_count": null,
      "metadata": {
        "id": "HLYd5puwzPkS"
      },
      "outputs": [],
      "source": [
        "# 問題1\n",
        "\n",
        "AB = [0+0+6 -2+4+27 -1+(-16)+(-3)] [0+0+12 8+(-10)+54 4+40+(-6)] [0+0+(-18) 14+16+(-81) 7+(-64)+9] = [6 29 -20] [12 52 38] [-18 -51 -48]"
      ]
    },
    {
      "cell_type": "code",
      "source": [
        "# 問題2\n",
        "\n",
        "import numpy as np\n",
        "\n",
        "a_ndarray = np.array([[-1, 2, 3], [4, -5, 6], [7, 8, -9]])\n",
        "b_ndarray = np.array([[0, 2, 1], [0, 2, -8], [2, 9, -1]])\n",
        "\n",
        "np.matmul(a_ndarray, b_ndarray)"
      ],
      "metadata": {
        "colab": {
          "base_uri": "https://localhost:8080/"
        },
        "id": "2aQulQ0eKGIU",
        "outputId": "92d37719-96cf-4654-e5b2-7bcca1b27e07"
      },
      "execution_count": 2,
      "outputs": [
        {
          "output_type": "execute_result",
          "data": {
            "text/plain": [
              "array([[  6,  29, -20],\n",
              "       [ 12,  52,  38],\n",
              "       [-18, -51, -48]])"
            ]
          },
          "metadata": {},
          "execution_count": 2
        }
      ]
    },
    {
      "cell_type": "code",
      "source": [
        "np.dot(a_ndarray, b_ndarray)"
      ],
      "metadata": {
        "colab": {
          "base_uri": "https://localhost:8080/"
        },
        "id": "98VKsev3LzsR",
        "outputId": "064ef025-3b57-429e-dda8-2d8ae94e26e2"
      },
      "execution_count": 3,
      "outputs": [
        {
          "output_type": "execute_result",
          "data": {
            "text/plain": [
              "array([[  6,  29, -20],\n",
              "       [ 12,  52,  38],\n",
              "       [-18, -51, -48]])"
            ]
          },
          "metadata": {},
          "execution_count": 3
        }
      ]
    },
    {
      "cell_type": "code",
      "source": [
        "a_ndarray @ b_ndarray"
      ],
      "metadata": {
        "colab": {
          "base_uri": "https://localhost:8080/"
        },
        "id": "xR_f1iK1L2g9",
        "outputId": "01fedb9c-8f74-4f61-ad8f-b4119a6757b8"
      },
      "execution_count": 4,
      "outputs": [
        {
          "output_type": "execute_result",
          "data": {
            "text/plain": [
              "array([[  6,  29, -20],\n",
              "       [ 12,  52,  38],\n",
              "       [-18, -51, -48]])"
            ]
          },
          "metadata": {},
          "execution_count": 4
        }
      ]
    },
    {
      "cell_type": "code",
      "source": [
        "for k in range(3):\n",
        "  AB = a_ndarray[0][k] * b_ndarray[k][0]\n",
        "\n",
        "print(AB)"
      ],
      "metadata": {
        "colab": {
          "base_uri": "https://localhost:8080/"
        },
        "id": "Hm0Yrwo7Mia0",
        "outputId": "2ff1c9ca-4088-40cd-d633-81803c2939bb"
      },
      "execution_count": 7,
      "outputs": [
        {
          "output_type": "stream",
          "name": "stdout",
          "text": [
            "6\n"
          ]
        }
      ]
    },
    {
      "cell_type": "code",
      "source": [
        "# 問題4\n",
        "\n",
        "def scratch(A,B):\n",
        "  c = np.zeros((len(A[0]), len(A)))\n",
        "  \n",
        "  for i in range(len(A[0])):\n",
        "    for j in range(len(A)):\n",
        "      for k in range(len(A[0])):\n",
        "        c[i][j] =  c[i][j] + A[i][k] * B[k][j]\n",
        "  return c\n",
        "  \n",
        "print(scratch(a_ndarray,b_ndarray))"
      ],
      "metadata": {
        "colab": {
          "base_uri": "https://localhost:8080/"
        },
        "id": "mx0ZLObqOwtB",
        "outputId": "a135f997-341f-4ea5-99cd-8a5ac5cdefc2"
      },
      "execution_count": 8,
      "outputs": [
        {
          "output_type": "stream",
          "name": "stdout",
          "text": [
            "[[  6.  29. -20.]\n",
            " [ 12.  52.  38.]\n",
            " [-18. -51. -48.]]\n"
          ]
        }
      ]
    },
    {
      "cell_type": "code",
      "source": [
        "# 問題5\n",
        "\n",
        "d_ndarray = np.array([[-1, 2, 3], [4, -5, 6]])\n",
        "e_ndarray = np.array([[-9, 8, 7], [6, -5, 4]])\n",
        "\n",
        "def scratch_if(A,B):\n",
        "  c = np.zeros((len(A[0]), len(A)))\n",
        "  if len(A) == len(A[0]):\n",
        "    for i in range(len(A[0])):\n",
        "      for j in range(len(A)):\n",
        "        for k in range(len(A[0])):\n",
        "          c[i][j] =  c[i][j] + A[i][k] * B[k][j]\n",
        "    return c\n",
        "  else:\n",
        "     print(\"入力される形に問題があります。\")"
      ],
      "metadata": {
        "id": "75T-IEYVnWvi"
      },
      "execution_count": 10,
      "outputs": []
    },
    {
      "cell_type": "code",
      "source": [
        "# 問題6\n",
        "\n",
        "a_ndarray.T @ b_ndarray"
      ],
      "metadata": {
        "colab": {
          "base_uri": "https://localhost:8080/"
        },
        "id": "EetewDv8pEJv",
        "outputId": "89843ec7-ac53-44fd-b8fb-9b9665f08086"
      },
      "execution_count": 11,
      "outputs": [
        {
          "output_type": "execute_result",
          "data": {
            "text/plain": [
              "array([[ 14,  69, -40],\n",
              "       [ 16,  66,  34],\n",
              "       [-18, -63, -36]])"
            ]
          },
          "metadata": {},
          "execution_count": 11
        }
      ]
    }
  ]
}