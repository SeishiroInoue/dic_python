{
  "nbformat": 4,
  "nbformat_minor": 0,
  "metadata": {
    "colab": {
      "name": "Matplotlib_2.ipynb",
      "provenance": [],
      "authorship_tag": "ABX9TyOSgJbxxEZz0+Aow2xJB+DY",
      "include_colab_link": true
    },
    "kernelspec": {
      "name": "python3",
      "display_name": "Python 3"
    },
    "language_info": {
      "name": "python"
    }
  },
  "cells": [
    {
      "cell_type": "markdown",
      "metadata": {
        "id": "view-in-github",
        "colab_type": "text"
      },
      "source": [
        "<a href=\"https://colab.research.google.com/github/SeishiroInoue/dic_python/blob/main/Matplotlib_2.ipynb\" target=\"_parent\"><img src=\"https://colab.research.google.com/assets/colab-badge.svg\" alt=\"Open In Colab\"/></a>"
      ]
    },
    {
      "cell_type": "code",
      "execution_count": 6,
      "metadata": {
        "colab": {
          "base_uri": "https://localhost:8080/",
          "height": 295
        },
        "id": "3cwgLk7iUVra",
        "outputId": "0ee2eab9-fc45-4b9a-a29b-94e464b2c99e"
      },
      "outputs": [
        {
          "output_type": "display_data",
          "data": {
            "text/plain": [
              "<Figure size 432x288 with 1 Axes>"
            ],
            "image/png": "[encoded data removed]"
          },
          "metadata": {
            "needs_background": "light"
          }
        }
      ],
      "source": [
        "# 問題1\n",
        "\n",
        "import matplotlib.pyplot as plt\n",
        "\n",
        "rice = 1\n",
        "rice_total = 1\n",
        "\n",
        "list_rice = [rice]\n",
        "list_rice_total = [rice_total]\n",
        "\n",
        "for i in range(99):\n",
        "  rice = rice * 2\n",
        "  list_rice.append(rice)\n",
        "  rice_total += rice\n",
        "  list_rice_total.append(rice_total)\n",
        "\n",
        "plt.title(\"rice graf\")\n",
        "plt.xlabel(\"day\")\n",
        "plt.ylabel(\"number of rice\")\n",
        "plt.plot(list_rice, label=\"rice\")\n",
        "plt.plot(list_rice_total, label=\"rice total\")\n",
        "plt.legend()\n",
        "plt.show()"
      ]
    },
    {
      "cell_type": "code",
      "source": [
        "# 問題2\n",
        "\n",
        "def compute_sorori_shinzaemon(n_days=100):\n",
        "    \"\"\"曽呂利新左衛門の米の逸話における、日にちごとの米の粒の数を計算する関数。\n",
        "\n",
        "    Parameteres\n",
        "    -----------\n",
        "    n_days: int\n",
        "        米を貰う日数 (default : 100)\n",
        "\n",
        "    Returns\n",
        "    -------\n",
        "    list_n_grains : list\n",
        "        ある日に貰う米の数のリスト (リストの長さはn_daysに等しい)\n",
        "    list_total_grains : list\n",
        "        ある日までに累計で貰う米の数のリスト (リストの長さはn_daysに等しい)\n",
        "    \"\"\"\n",
        "    rice = 1\n",
        "    rice_total = 1\n",
        "\n",
        "    list_n_grains = [rice]\n",
        "    list_total_grains = [rice_total] \n",
        "\n",
        "    for i in range(n_days):\n",
        "      rice = rice * 2\n",
        "      list_n_grains.append(rice)\n",
        "      rice_total += rice\n",
        "      list_total_grains.append(rice_total)\n",
        "\n",
        "    return list_n_grains, list_total_grains\n",
        "\n",
        "list_n_grains, list_total_grains = compute_sorori_shinzaemon(n_days=10)\n",
        "\n",
        "plt.title(\"rice graf\")\n",
        "plt.xlabel(\"day\")\n",
        "plt.ylabel(\"number of rice\")\n",
        "plt.plot(list_rice, label=\"n_grains\")\n",
        "plt.plot(list_rice_total, label=\"total_grains\")\n",
        "plt.legend()\n",
        "plt.show()"
      ],
      "metadata": {
        "colab": {
          "base_uri": "https://localhost:8080/",
          "height": 295
        },
        "id": "zBx65OnFuIFR",
        "outputId": "d01084f8-b3e6-44b3-8489-e6527573bb27"
      },
      "execution_count": 16,
      "outputs": [
        {
          "output_type": "display_data",
          "data": {
            "text/plain": [
              "<Figure size 432x288 with 1 Axes>"
            ],
            "image/png": "[encoded data removed]"
          },
          "metadata": {
            "needs_background": "light"
          }
        }
      ]
    },
    {
      "cell_type": "code",
      "source": [
        "# 問題3\n",
        "\n",
        "\"\"\"\n",
        "一人あたり、10,000粒で一日生活できるとする（お茶碗一杯の米粒が約3,200粒のようなので、三食で一日10,000粒）。\n",
        "コースの受講期間は30日間、クラスの人数は40人とする。\n",
        "\"\"\"\n",
        "\n",
        "def predict_life_days(n_rice, n_people):\n",
        "  list_n_grains_life, list_total_grains_life = compute_sorori_shinzaemon(n_days=30)\n",
        "  life_days = list_total_grains_life[-1] / (n_rice*n_people)\n",
        "  return life_days\n",
        "\n",
        "print(\"機械学習エンジニアコースで生活できる日数\")\n",
        "predict_life_days(n_rice=10000, n_people=40)"
      ],
      "metadata": {
        "colab": {
          "base_uri": "https://localhost:8080/"
        },
        "id": "T0lvgwra05iX",
        "outputId": "10e4ffd2-cda8-4d72-8f25-bfd8f5546530"
      },
      "execution_count": 22,
      "outputs": [
        {
          "output_type": "stream",
          "name": "stdout",
          "text": [
            "機械学習エンジニアコースで生活できる日数\n"
          ]
        },
        {
          "output_type": "execute_result",
          "data": {
            "text/plain": [
              "5368.7091175"
            ]
          },
          "metadata": {},
          "execution_count": 22
        }
      ]
    }
  ]
}