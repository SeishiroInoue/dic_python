{
  "nbformat": 4,
  "nbformat_minor": 0,
  "metadata": {
    "colab": {
      "name": "Matplotlib_4.ipynb",
      "provenance": [],
      "authorship_tag": "ABX9TyMYrigf+TMcUpDxirCOP2oF",
      "include_colab_link": true
    },
    "kernelspec": {
      "name": "python3",
      "display_name": "Python 3"
    },
    "language_info": {
      "name": "python"
    }
  },
  "cells": [
    {
      "cell_type": "markdown",
      "metadata": {
        "id": "view-in-github",
        "colab_type": "text"
      },
      "source": [
        "<a href=\"https://colab.research.google.com/github/SeishiroInoue/diveintocode_machine_learning/blob/main/Matplotlib_4.ipynb\" target=\"_parent\"><img src=\"https://colab.research.google.com/assets/colab-badge.svg\" alt=\"Open In Colab\"/></a>"
      ]
    },
    {
      "cell_type": "code",
      "execution_count": 2,
      "metadata": {
        "colab": {
          "base_uri": "https://localhost:8080/"
        },
        "id": "C0kDazjDv74w",
        "outputId": "5bd894cb-de85-47bb-8111-77ccf9380931"
      },
      "outputs": [
        {
          "output_type": "stream",
          "name": "stdout",
          "text": [
            "1385分\n",
            "170分\n"
          ]
        }
      ],
      "source": [
        "\"\"\"\n",
        "饅頭、太陽系、東京ドームの体積\n",
        "\"\"\"\n",
        "manju = 10 ** (-4)\n",
        "taiyokei = 1.35e+79\n",
        "tokyo_dome = 1.24e+6\n",
        "\n",
        "\"\"\"\n",
        "物体を覆う時間を計算する関数\n",
        "\"\"\"\n",
        "def time_to_cover(volume_manju, volume_coverd):\n",
        "  num = 0\n",
        "  while volume_manju <= volume_coverd:\n",
        "    volume_manju *= 2\n",
        "    num += 1\n",
        "\n",
        "  minutes = 5 * num\n",
        "  return minutes\n",
        "\n",
        "\"\"\"\n",
        "饅頭が太陽系を覆う時間\n",
        "\"\"\"\n",
        "a = time_to_cover(manju, taiyokei)\n",
        "print('{}分'.format(a))\n",
        "\n",
        "\"\"\"\n",
        "饅頭が東京ドームを覆う時間\n",
        "\"\"\"\n",
        "b = time_to_cover(manju, tokyo_dome)\n",
        "print('{}分'.format(b))"
      ]
    }
  ]
}