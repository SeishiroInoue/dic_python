{
  "nbformat": 4,
  "nbformat_minor": 0,
  "metadata": {
    "colab": {
      "name": "Matplotlib_3.ipynb",
      "provenance": [],
      "collapsed_sections": [],
      "authorship_tag": "ABX9TyPlXfLSERECtJO7kajJo/Zn",
      "include_colab_link": true
    },
    "kernelspec": {
      "name": "python3",
      "display_name": "Python 3"
    },
    "language_info": {
      "name": "python"
    }
  },
  "cells": [
    {
      "cell_type": "markdown",
      "metadata": {
        "id": "view-in-github",
        "colab_type": "text"
      },
      "source": [
        "<a href=\"https://colab.research.google.com/github/SeishiroInoue/dic_python/blob/main/Matplotlib_3.ipynb\" target=\"_parent\"><img src=\"https://colab.research.google.com/assets/colab-badge.svg\" alt=\"Open In Colab\"/></a>"
      ]
    },
    {
      "cell_type": "code",
      "execution_count": 1,
      "metadata": {
        "id": "UTCrNPShBhc1",
        "colab": {
          "base_uri": "https://localhost:8080/"
        },
        "outputId": "d1694497-0858-4518-a57e-cd4a4a39cfe6"
      },
      "outputs": [
        {
          "output_type": "stream",
          "name": "stdout",
          "text": [
            "26回\n"
          ]
        }
      ],
      "source": [
        "# 問題1\n",
        "\n",
        "folded_thickness = 0.00008\n",
        "num = 0\n",
        "\n",
        "while folded_thickness <= 3776:\n",
        "  folded_thickness *= 2\n",
        "  num += 1\n",
        "\n",
        "print('{}回'.format(num))"
      ]
    },
    {
      "cell_type": "code",
      "source": [
        "# 問題2\n",
        "\n",
        "\"\"\"\n",
        "紙を折る最小回数を出力する関数\n",
        "\"\"\"\n",
        "def folded_thickness_height(height, folded_thickness = 0.00008):\n",
        "  num = 0\n",
        "  while folded_thickness <= height:\n",
        "    folded_thickness *= 2\n",
        "    num += 1\n",
        "  return num\n",
        "\n",
        "\"\"\"\n",
        "プロキシマ・ケンタウリに到達するまで紙を折る回数\n",
        "\"\"\"\n",
        "n_proxima = folded_thickness_height(4.0175e+16)\n",
        "print('{}回'.format(n_proxima))"
      ],
      "metadata": {
        "id": "JpqloR-WaX9x",
        "colab": {
          "base_uri": "https://localhost:8080/"
        },
        "outputId": "febd2ddf-b803-4ccb-9c6b-116518aefe49"
      },
      "execution_count": 2,
      "outputs": [
        {
          "output_type": "stream",
          "name": "stdout",
          "text": [
            "69回\n"
          ]
        }
      ]
    },
    {
      "cell_type": "code",
      "source": [
        "# 問題3\n",
        "\n",
        "\"\"\"\n",
        "紙の長さを求める関数\n",
        "\"\"\"\n",
        "import math\n",
        "\n",
        "def paper_thickness(height, thickness = 0.00008):\n",
        "  n = folded_thickness_height(height)\n",
        "  l = (math.pi*thickness / 6) * (2**n + 4) * (2**n - 1)\n",
        "  return l\n",
        "\n",
        "\"\"\"\n",
        "月\n",
        "\"\"\"\n",
        "moon = paper_thickness(384400000)\n",
        "print('{}m'.format(moon))\n",
        "\n",
        "\"\"\"\n",
        "富士山\n",
        "\"\"\"\n",
        "fuji = paper_thickness(3776)\n",
        "print('{}m'.format(fuji))\n",
        "\n",
        "\"\"\"\n",
        "最も近い太陽以外の恒星\n",
        "\"\"\"\n",
        "proxima = paper_thickness(4.0175e+16)\n",
        "print('{}m'.format(proxima))"
      ],
      "metadata": {
        "colab": {
          "base_uri": "https://localhost:8080/"
        },
        "id": "Mo7rjJxFzv3_",
        "outputId": "db7d39f5-c420-44ca-dedd-e194ac0ddcc9"
      },
      "execution_count": 9,
      "outputs": [
        {
          "output_type": "stream",
          "name": "stdout",
          "text": [
            "3.240919444170781e+21m\n",
            "188646348487.24017m\n",
            "1.4595803601100348e+37m\n"
          ]
        }
      ]
    }
  ]
}