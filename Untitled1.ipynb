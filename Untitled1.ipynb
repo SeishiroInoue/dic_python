{
  "nbformat": 4,
  "nbformat_minor": 0,
  "metadata": {
    "colab": {
      "name": "Untitled1.ipynb",
      "provenance": [],
      "authorship_tag": "ABX9TyOQMlAn7fiCfUWkHzp+mNDf",
      "include_colab_link": true
    },
    "kernelspec": {
      "name": "python3",
      "display_name": "Python 3"
    },
    "language_info": {
      "name": "python"
    }
  },
  "cells": [
    {
      "cell_type": "markdown",
      "metadata": {
        "id": "view-in-github",
        "colab_type": "text"
      },
      "source": [
        "<a href=\"https://colab.research.google.com/github/SeishiroInoue/diveintocode_machine_learning/blob/main/Untitled1.ipynb\" target=\"_parent\"><img src=\"https://colab.research.google.com/assets/colab-badge.svg\" alt=\"Open In Colab\"/></a>"
      ]
    },
    {
      "cell_type": "code",
      "execution_count": null,
      "metadata": {
        "id": "9lTmUNqbCrZ4"
      },
      "outputs": [],
      "source": [
        "# 問題1\n",
        "\n",
        "\"\"\"\n",
        "Pandas\n",
        "\"\"\"\n",
        "DataFrame Series\n",
        "\n",
        "\"\"\"\n",
        "matplotlib\n",
        "\"\"\"\n",
        "pyplot paches\n",
        "\n",
        "\"\"\"\n",
        "scikit-learn\n",
        "\"\"\"\n",
        "LinearRegression"
      ]
    },
    {
      "cell_type": "code",
      "source": [
        "# 問題2\n",
        "\n",
        "\"\"\"\n",
        "インスタンス変数\n",
        "\"\"\"\n",
        "values loc iloc dtypes\n",
        "\n",
        "\"\"\"\n",
        "メソッド\n",
        "\"\"\"\n",
        "mean dropna"
      ],
      "metadata": {
        "id": "qHu3mq-KNhSn"
      },
      "execution_count": null,
      "outputs": []
    },
    {
      "cell_type": "code",
      "source": [
        "# 問題3\n",
        "\n",
        "class ScratchStandardScaler():\n",
        "    \"\"\"\n",
        "    標準化のためのクラス\n",
        "    Attributes\n",
        "    ----------\n",
        "    mean_ : 次の形のndarray, shape(n_features,)\n",
        "        平均\n",
        "    var_ : 次の形のndarray, shape(n_features,)\n",
        "        分散\n",
        "    \"\"\"\n",
        "    def fit(self, X):\n",
        "        \"\"\"\n",
        "        標準化のために平均と標準偏差を計算する。\n",
        "        Parameters\n",
        "        ----------\n",
        "        X : 次の形のndarray, shape (n_samples, n_features)\n",
        "            訓練データ\n",
        "        \"\"\"\n",
        "        self.mean_ = np.mean(X,axis=0)\n",
        "        self.var_ = np.var(X,axis=0)\n",
        "        pass\n",
        "    def transform(self, X):\n",
        "        \"\"\"\n",
        "        fitで求めた値を使い標準化を行う。\n",
        "        Parameters\n",
        "        ----------\n",
        "        X : 次の形のndarray, shape (n_samples, n_features)\n",
        "            特徴量\n",
        "        Returns\n",
        "        ----------\n",
        "        X_scaled : 次の形のndarray, shape (n_samples, n_features)\n",
        "            標準化された特緒量\n",
        "        \"\"\"\n",
        "        X_scaled = (X - self.mean_)/np.sqrt(self.var_)\n",
        "        return X_scaled"
      ],
      "metadata": {
        "id": "RaNiDRouONf7"
      },
      "execution_count": 1,
      "outputs": []
    },
    {
      "cell_type": "code",
      "source": [
        "import numpy as np\n",
        "from sklearn.datasets import load_iris\n",
        "\n",
        "data = load_iris()\n",
        "X = data.data[:10]\n",
        "scratch_scaler = ScratchStandardScaler()\n",
        "scratch_scaler.fit(X)\n",
        "print(\"平均 : {}\".format(scratch_scaler.mean_))\n",
        "print(\"分散 : {}\".format(scratch_scaler.var_))\n",
        "X_std = scratch_scaler.transform(X)\n",
        "print(X_std)"
      ],
      "metadata": {
        "colab": {
          "base_uri": "https://localhost:8080/"
        },
        "id": "xQnK9J3XPRmt",
        "outputId": "041cc7f0-188f-422a-bc18-b30062ae9fc0"
      },
      "execution_count": 2,
      "outputs": [
        {
          "output_type": "stream",
          "name": "stdout",
          "text": [
            "平均 : [4.86 3.31 1.45 0.22]\n",
            "分散 : [0.0764 0.0849 0.0105 0.0056]\n",
            "[[ 0.86828953  0.65207831 -0.48795004 -0.26726124]\n",
            " [ 0.14471492 -1.06391725 -0.48795004 -0.26726124]\n",
            " [-0.57885968 -0.37751902 -1.46385011 -0.26726124]\n",
            " [-0.94064699 -0.72071813  0.48795004 -0.26726124]\n",
            " [ 0.50650222  0.99527742 -0.48795004 -0.26726124]\n",
            " [ 1.95365143  2.02487476  2.43975018  2.40535118]\n",
            " [-0.94064699  0.3088792  -0.48795004  1.06904497]\n",
            " [ 0.50650222  0.3088792   0.48795004 -0.26726124]\n",
            " [-1.66422159 -1.40711636 -0.48795004 -0.26726124]\n",
            " [ 0.14471492 -0.72071813  0.48795004 -1.60356745]]\n"
          ]
        }
      ]
    },
    {
      "cell_type": "code",
      "source": [
        "def __init__(self, copy=True, with_mean=True, with_std=True):\n",
        "    self.with_mean = with_mean\n",
        "    self.with_std = with_std\n",
        "    self.copy = copy"
      ],
      "metadata": {
        "id": "L9hScEv9Pn65"
      },
      "execution_count": 3,
      "outputs": []
    },
    {
      "cell_type": "code",
      "source": [
        "class ExampleClass():\n",
        "    \"\"\"\n",
        "    説明用の簡単なクラス\n",
        "    Parameters\n",
        "    ----------\n",
        "    value : float or int\n",
        "        初期値\n",
        "    Attributes\n",
        "    ----------\n",
        "    value : float or int\n",
        "        計算結果\n",
        "    \"\"\"\n",
        "    def __init__(self, value):\n",
        "        self.value = value\n",
        "        print(\"初期値{}が設定されました\".format(self.value))\n",
        "    def add(self, value2):\n",
        "        \"\"\"\n",
        "        受け取った引数をself.valueに加える\n",
        "        \"\"\"\n",
        "        self.value += value2\n",
        "example = ExampleClass(5)\n",
        "print(\"value : {}\".format(example.value))\n",
        "example.add(3)\n",
        "print(\"value : {}\".format(example.value))"
      ],
      "metadata": {
        "colab": {
          "base_uri": "https://localhost:8080/"
        },
        "id": "gisIDjQLPveA",
        "outputId": "7d3a4b0c-01c2-4cbd-92c7-38629d35cf71"
      },
      "execution_count": 4,
      "outputs": [
        {
          "output_type": "stream",
          "name": "stdout",
          "text": [
            "初期値5が設定されました\n",
            "value : 5\n",
            "value : 8\n"
          ]
        }
      ]
    },
    {
      "cell_type": "code",
      "source": [
        "# 問題4\n",
        "\n",
        "class CalcTest():\n",
        "    \"\"\"\n",
        "    説明用の簡単なクラス\n",
        "    Parameters\n",
        "    ----------\n",
        "    value : float or int\n",
        "        初期値\n",
        "    Attributes\n",
        "    ----------\n",
        "    value : float or int\n",
        "        計算結果\n",
        "    \"\"\"\n",
        "    def myerror(func):\n",
        "            \n",
        "        def inp_er(*args, **kwargs):\n",
        "            \n",
        "            try:\n",
        "                func(*args, **kwargs)\n",
        "\n",
        "            except Exception as e:\n",
        "                ''' \n",
        "                共通の例外処理をここに書く\n",
        "                '''\n",
        "                print(\"エラーです入力には数値を入れてください\")\n",
        "                print(e)\n",
        "        return inp_er\n",
        "    \n",
        "    \n",
        "    def __init__(self, value):\n",
        "\n",
        "        try:\n",
        "            self.value = float(value)\n",
        "            print(\"初期値{}が設定されました\".format(self.float(value)))\n",
        "        except Exception as e:\n",
        "            ''' \n",
        "            共通の例外処理をここに書く\n",
        "            '''\n",
        "            print(\"エラーです入力には数値を入れてください\")\n",
        "            print(e)  \n",
        "\n",
        "\n",
        "    @myerror    \n",
        "    def add(self, value2):\n",
        "        \"\"\"\n",
        "        受け取った引数をself.valueに加える\n",
        "        \"\"\"    \n",
        "        self.value += value2\n",
        "    @myerror\n",
        "    def mul(self, value3):\n",
        "        \"\"\"\n",
        "        受け取った引数をself.valueに乗算する\n",
        "        \"\"\"\n",
        "        self.value *= value3    \n",
        "    @myerror\n",
        "    def minu(self, value4):\n",
        "        \"\"\"\n",
        "        受け取った引数をself.valueから引く\n",
        "        \"\"\"\n",
        "        self.value -= value4       \n",
        "        \n",
        "    @myerror\n",
        "    def div(self, value5):\n",
        "        \"\"\"\n",
        "        受け取った引数をself.valueから割る\n",
        "        \"\"\"\n",
        "        self.value /= value5    \n",
        "        \n",
        "   \n",
        "        \n",
        "        \n",
        "example = CalcTest(5)\n",
        "print(\"value : {}\".format(example.value))\n",
        "example.add(3)\n",
        "print(\"value : {}\".format(example.value))\n",
        "example.mul(3)\n",
        "print(\"value : {}\".format(example.value))\n",
        "example.minu(3)\n",
        "print(\"value : {}\".format(example.value))\n",
        "example.div(3)\n",
        "print(\"value : {}\".format(example.value))"
      ],
      "metadata": {
        "colab": {
          "base_uri": "https://localhost:8080/"
        },
        "id": "nYKWMazwP0_A",
        "outputId": "0c1ee2fb-8997-4f0e-ebd3-6e8ad2f9b8af"
      },
      "execution_count": 5,
      "outputs": [
        {
          "output_type": "stream",
          "name": "stdout",
          "text": [
            "エラーです入力には数値を入れてください\n",
            "'CalcTest' object has no attribute 'float'\n",
            "value : 5.0\n",
            "value : 8.0\n",
            "value : 24.0\n",
            "value : 21.0\n",
            "value : 7.0\n"
          ]
        }
      ]
    },
    {
      "cell_type": "code",
      "source": [
        "example = CalcTest(\"8\")\n",
        "print(\"value : {}\".format(example.value))"
      ],
      "metadata": {
        "colab": {
          "base_uri": "https://localhost:8080/"
        },
        "id": "4ZeUKBnvQsUY",
        "outputId": "ca20d3bd-a698-440f-ff7b-006c462ae615"
      },
      "execution_count": 7,
      "outputs": [
        {
          "output_type": "stream",
          "name": "stdout",
          "text": [
            "エラーです入力には数値を入れてください\n",
            "'CalcTest' object has no attribute 'float'\n",
            "value : 8.0\n"
          ]
        }
      ]
    },
    {
      "cell_type": "code",
      "source": [
        "example.div(3)\n",
        "print(\"value : {}\".format(example.value))"
      ],
      "metadata": {
        "colab": {
          "base_uri": "https://localhost:8080/"
        },
        "id": "mGUOw1IbQuZi",
        "outputId": "0b77e571-840c-41a5-af9a-0adf311ea8d5"
      },
      "execution_count": 8,
      "outputs": [
        {
          "output_type": "stream",
          "name": "stdout",
          "text": [
            "value : 2.6666666666666665\n"
          ]
        }
      ]
    }
  ]
}