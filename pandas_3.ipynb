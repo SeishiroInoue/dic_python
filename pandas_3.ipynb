{
  "nbformat": 4,
  "nbformat_minor": 0,
  "metadata": {
    "colab": {
      "name": "pandas_3.ipynb",
      "provenance": [],
      "authorship_tag": "ABX9TyNMGp2Q4nANsfvrIR3JM3rw",
      "include_colab_link": true
    },
    "kernelspec": {
      "name": "python3",
      "display_name": "Python 3"
    },
    "language_info": {
      "name": "python"
    }
  },
  "cells": [
    {
      "cell_type": "markdown",
      "metadata": {
        "id": "view-in-github",
        "colab_type": "text"
      },
      "source": [
        "<a href=\"https://colab.research.google.com/github/SeishiroInoue/diveintocode_machine_learning/blob/main/pandas_3.ipynb\" target=\"_parent\"><img src=\"https://colab.research.google.com/assets/colab-badge.svg\" alt=\"Open In Colab\"/></a>"
      ]
    },
    {
      "cell_type": "code",
      "execution_count": null,
      "metadata": {
        "id": "Bw4weZnp4yrD"
      },
      "outputs": [],
      "source": [
        "# 問題1\n",
        "\n",
        "\"\"\"\n",
        "Home Creditはどのような企業？\n",
        "\"\"\"\n",
        "Home Creditは、前向きで安全な借入体験を提供することにより、銀行のない人々の金融包摂の拡大に努めている。\n",
        "この十分なサービスを受けていない人々が確実に融資を受けられるようにするため、Home Creditは、電話会社や取引情報などのさまざまな代替データを利用して、クライアントの返済能力を予測している。\n",
        "\n",
        "\"\"\"\n",
        "このコンペティションでは何を予測する？\n",
        "\"\"\"\n",
        "電話会社や取引情報などのさまざまな代替データを利用して、クライアントの返済能力を予測している。\n",
        "クライアントが成功するための元本、満期、返済カレンダーがローンに与えられるようにする。(予測された確率と観測されたターゲットの間のROC曲線の下の領域で評価される。)\n",
        "\n",
        "\"\"\"\n",
        "それを予測することで企業が得られるメリットは何？\n",
        "\"\"\"\n",
        "貸し倒れによるリスク回避"
      ]
    },
    {
      "cell_type": "code",
      "source": [
        "import matplotlib.pyplot as plt\n",
        "%matplotlib inline\n",
        "import numpy as np\n",
        "import pandas as pd\n",
        "import seaborn as sns\n",
        "import missingno as msno\n",
        "from scipy import stats"
      ],
      "metadata": {
        "id": "GQTWlaPaegPj"
      },
      "execution_count": 1,
      "outputs": []
    },
    {
      "cell_type": "code",
      "source": [
        "df = pd.read_csv(\"/content/application_train.csv\")"
      ],
      "metadata": {
        "id": "4CRPT4EpepI6"
      },
      "execution_count": 3,
      "outputs": []
    },
    {
      "cell_type": "code",
      "source": [
        "# 問題2\n",
        "\n",
        "df.head()"
      ],
      "metadata": {
        "colab": {
          "base_uri": "https://localhost:8080/",
          "height": 300
        },
        "id": "pWctYqVhfIJO",
        "outputId": "280ed743-e0fa-49dd-8cf5-9133b62a0461"
      },
      "execution_count": 4,
      "outputs": [
        {
          "output_type": "execute_result",
          "data": {
            "text/plain": [
              "   SK_ID_CURR  TARGET NAME_CONTRACT_TYPE CODE_GENDER FLAG_OWN_CAR  \\\n",
              "0      100002       1         Cash loans           M            N   \n",
              "1      100003       0         Cash loans           F            N   \n",
              "2      100004       0    Revolving loans           M            Y   \n",
              "3      100006       0         Cash loans           F            N   \n",
              "4      100007       0         Cash loans           M            N   \n",
              "\n",
              "  FLAG_OWN_REALTY  CNT_CHILDREN  AMT_INCOME_TOTAL  AMT_CREDIT  AMT_ANNUITY  \\\n",
              "0               Y             0          202500.0    406597.5      24700.5   \n",
              "1               N             0          270000.0   1293502.5      35698.5   \n",
              "2               Y             0           67500.0    135000.0       6750.0   \n",
              "3               Y             0          135000.0    312682.5      29686.5   \n",
              "4               Y             0          121500.0    513000.0      21865.5   \n",
              "\n",
              "   ...  FLAG_DOCUMENT_18 FLAG_DOCUMENT_19 FLAG_DOCUMENT_20 FLAG_DOCUMENT_21  \\\n",
              "0  ...               0.0              0.0              0.0              0.0   \n",
              "1  ...               0.0              0.0              0.0              0.0   \n",
              "2  ...               0.0              0.0              0.0              0.0   \n",
              "3  ...               0.0              0.0              0.0              0.0   \n",
              "4  ...               0.0              0.0              0.0              0.0   \n",
              "\n",
              "  AMT_REQ_CREDIT_BUREAU_HOUR AMT_REQ_CREDIT_BUREAU_DAY  \\\n",
              "0                        0.0                       0.0   \n",
              "1                        0.0                       0.0   \n",
              "2                        0.0                       0.0   \n",
              "3                        NaN                       NaN   \n",
              "4                        0.0                       0.0   \n",
              "\n",
              "   AMT_REQ_CREDIT_BUREAU_WEEK  AMT_REQ_CREDIT_BUREAU_MON  \\\n",
              "0                         0.0                        0.0   \n",
              "1                         0.0                        0.0   \n",
              "2                         0.0                        0.0   \n",
              "3                         NaN                        NaN   \n",
              "4                         0.0                        0.0   \n",
              "\n",
              "   AMT_REQ_CREDIT_BUREAU_QRT  AMT_REQ_CREDIT_BUREAU_YEAR  \n",
              "0                        0.0                         1.0  \n",
              "1                        0.0                         0.0  \n",
              "2                        0.0                         0.0  \n",
              "3                        NaN                         NaN  \n",
              "4                        0.0                         0.0  \n",
              "\n",
              "[5 rows x 122 columns]"
            ],
            "text/html": [
              "\n",
              "  <div id=\"df-bae52ac1-2c53-4184-bea5-f1881816026d\">\n",
              "    <div class=\"colab-df-container\">\n",
              "      <div>\n",
              "<style scoped>\n",
              "    .dataframe tbody tr th:only-of-type {\n",
              "        vertical-align: middle;\n",
              "    }\n",
              "\n",
              "    .dataframe tbody tr th {\n",
              "        vertical-align: top;\n",
              "    }\n",
              "\n",
              "    .dataframe thead th {\n",
              "        text-align: right;\n",
              "    }\n",
              "</style>\n",
              "<table border=\"1\" class=\"dataframe\">\n",
              "  <thead>\n",
              "    <tr style=\"text-align: right;\">\n",
              "      <th></th>\n",
              "      <th>SK_ID_CURR</th>\n",
              "      <th>TARGET</th>\n",
              "      <th>NAME_CONTRACT_TYPE</th>\n",
              "      <th>CODE_GENDER</th>\n",
              "      <th>FLAG_OWN_CAR</th>\n",
              "      <th>FLAG_OWN_REALTY</th>\n",
              "      <th>CNT_CHILDREN</th>\n",
              "      <th>AMT_INCOME_TOTAL</th>\n",
              "      <th>AMT_CREDIT</th>\n",
              "      <th>AMT_ANNUITY</th>\n",
              "      <th>...</th>\n",
              "      <th>FLAG_DOCUMENT_18</th>\n",
              "      <th>FLAG_DOCUMENT_19</th>\n",
              "      <th>FLAG_DOCUMENT_20</th>\n",
              "      <th>FLAG_DOCUMENT_21</th>\n",
              "      <th>AMT_REQ_CREDIT_BUREAU_HOUR</th>\n",
              "      <th>AMT_REQ_CREDIT_BUREAU_DAY</th>\n",
              "      <th>AMT_REQ_CREDIT_BUREAU_WEEK</th>\n",
              "      <th>AMT_REQ_CREDIT_BUREAU_MON</th>\n",
              "      <th>AMT_REQ_CREDIT_BUREAU_QRT</th>\n",
              "      <th>AMT_REQ_CREDIT_BUREAU_YEAR</th>\n",
              "    </tr>\n",
              "  </thead>\n",
              "  <tbody>\n",
              "    <tr>\n",
              "      <th>0</th>\n",
              "      <td>100002</td>\n",
              "      <td>1</td>\n",
              "      <td>Cash loans</td>\n",
              "      <td>M</td>\n",
              "      <td>N</td>\n",
              "      <td>Y</td>\n",
              "      <td>0</td>\n",
              "      <td>202500.0</td>\n",
              "      <td>406597.5</td>\n",
              "      <td>24700.5</td>\n",
              "      <td>...</td>\n",
              "      <td>0.0</td>\n",
              "      <td>0.0</td>\n",
              "      <td>0.0</td>\n",
              "      <td>0.0</td>\n",
              "      <td>0.0</td>\n",
              "      <td>0.0</td>\n",
              "      <td>0.0</td>\n",
              "      <td>0.0</td>\n",
              "      <td>0.0</td>\n",
              "      <td>1.0</td>\n",
              "    </tr>\n",
              "    <tr>\n",
              "      <th>1</th>\n",
              "      <td>100003</td>\n",
              "      <td>0</td>\n",
              "      <td>Cash loans</td>\n",
              "      <td>F</td>\n",
              "      <td>N</td>\n",
              "      <td>N</td>\n",
              "      <td>0</td>\n",
              "      <td>270000.0</td>\n",
              "      <td>1293502.5</td>\n",
              "      <td>35698.5</td>\n",
              "      <td>...</td>\n",
              "      <td>0.0</td>\n",
              "      <td>0.0</td>\n",
              "      <td>0.0</td>\n",
              "      <td>0.0</td>\n",
              "      <td>0.0</td>\n",
              "      <td>0.0</td>\n",
              "      <td>0.0</td>\n",
              "      <td>0.0</td>\n",
              "      <td>0.0</td>\n",
              "      <td>0.0</td>\n",
              "    </tr>\n",
              "    <tr>\n",
              "      <th>2</th>\n",
              "      <td>100004</td>\n",
              "      <td>0</td>\n",
              "      <td>Revolving loans</td>\n",
              "      <td>M</td>\n",
              "      <td>Y</td>\n",
              "      <td>Y</td>\n",
              "      <td>0</td>\n",
              "      <td>67500.0</td>\n",
              "      <td>135000.0</td>\n",
              "      <td>6750.0</td>\n",
              "      <td>...</td>\n",
              "      <td>0.0</td>\n",
              "      <td>0.0</td>\n",
              "      <td>0.0</td>\n",
              "      <td>0.0</td>\n",
              "      <td>0.0</td>\n",
              "      <td>0.0</td>\n",
              "      <td>0.0</td>\n",
              "      <td>0.0</td>\n",
              "      <td>0.0</td>\n",
              "      <td>0.0</td>\n",
              "    </tr>\n",
              "    <tr>\n",
              "      <th>3</th>\n",
              "      <td>100006</td>\n",
              "      <td>0</td>\n",
              "      <td>Cash loans</td>\n",
              "      <td>F</td>\n",
              "      <td>N</td>\n",
              "      <td>Y</td>\n",
              "      <td>0</td>\n",
              "      <td>135000.0</td>\n",
              "      <td>312682.5</td>\n",
              "      <td>29686.5</td>\n",
              "      <td>...</td>\n",
              "      <td>0.0</td>\n",
              "      <td>0.0</td>\n",
              "      <td>0.0</td>\n",
              "      <td>0.0</td>\n",
              "      <td>NaN</td>\n",
              "      <td>NaN</td>\n",
              "      <td>NaN</td>\n",
              "      <td>NaN</td>\n",
              "      <td>NaN</td>\n",
              "      <td>NaN</td>\n",
              "    </tr>\n",
              "    <tr>\n",
              "      <th>4</th>\n",
              "      <td>100007</td>\n",
              "      <td>0</td>\n",
              "      <td>Cash loans</td>\n",
              "      <td>M</td>\n",
              "      <td>N</td>\n",
              "      <td>Y</td>\n",
              "      <td>0</td>\n",
              "      <td>121500.0</td>\n",
              "      <td>513000.0</td>\n",
              "      <td>21865.5</td>\n",
              "      <td>...</td>\n",
              "      <td>0.0</td>\n",
              "      <td>0.0</td>\n",
              "      <td>0.0</td>\n",
              "      <td>0.0</td>\n",
              "      <td>0.0</td>\n",
              "      <td>0.0</td>\n",
              "      <td>0.0</td>\n",
              "      <td>0.0</td>\n",
              "      <td>0.0</td>\n",
              "      <td>0.0</td>\n",
              "    </tr>\n",
              "  </tbody>\n",
              "</table>\n",
              "<p>5 rows × 122 columns</p>\n",
              "</div>\n",
              "      <button class=\"colab-df-convert\" onclick=\"convertToInteractive('df-bae52ac1-2c53-4184-bea5-f1881816026d')\"\n",
              "              title=\"Convert this dataframe to an interactive table.\"\n",
              "              style=\"display:none;\">\n",
              "        \n",
              "  <svg xmlns=\"http://www.w3.org/2000/svg\" height=\"24px\"viewBox=\"0 0 24 24\"\n",
              "       width=\"24px\">\n",
              "    <path d=\"M0 0h24v24H0V0z\" fill=\"none\"/>\n",
              "    <path d=\"M18.56 5.44l.94 2.06.94-2.06 2.06-.94-2.06-.94-.94-2.06-.94 2.06-2.06.94zm-11 1L8.5 8.5l.94-2.06 2.06-.94-2.06-.94L8.5 2.5l-.94 2.06-2.06.94zm10 10l.94 2.06.94-2.06 2.06-.94-2.06-.94-.94-2.06-.94 2.06-2.06.94z\"/><path d=\"M17.41 7.96l-1.37-1.37c-.4-.4-.92-.59-1.43-.59-.52 0-1.04.2-1.43.59L10.3 9.45l-7.72 7.72c-.78.78-.78 2.05 0 2.83L4 21.41c.39.39.9.59 1.41.59.51 0 1.02-.2 1.41-.59l7.78-7.78 2.81-2.81c.8-.78.8-2.07 0-2.86zM5.41 20L4 18.59l7.72-7.72 1.47 1.35L5.41 20z\"/>\n",
              "  </svg>\n",
              "      </button>\n",
              "      \n",
              "  <style>\n",
              "    .colab-df-container {\n",
              "      display:flex;\n",
              "      flex-wrap:wrap;\n",
              "      gap: 12px;\n",
              "    }\n",
              "\n",
              "    .colab-df-convert {\n",
              "      background-color: #E8F0FE;\n",
              "      border: none;\n",
              "      border-radius: 50%;\n",
              "      cursor: pointer;\n",
              "      display: none;\n",
              "      fill: #1967D2;\n",
              "      height: 32px;\n",
              "      padding: 0 0 0 0;\n",
              "      width: 32px;\n",
              "    }\n",
              "\n",
              "    .colab-df-convert:hover {\n",
              "      background-color: #E2EBFA;\n",
              "      box-shadow: 0px 1px 2px rgba(60, 64, 67, 0.3), 0px 1px 3px 1px rgba(60, 64, 67, 0.15);\n",
              "      fill: #174EA6;\n",
              "    }\n",
              "\n",
              "    [theme=dark] .colab-df-convert {\n",
              "      background-color: #3B4455;\n",
              "      fill: #D2E3FC;\n",
              "    }\n",
              "\n",
              "    [theme=dark] .colab-df-convert:hover {\n",
              "      background-color: #434B5C;\n",
              "      box-shadow: 0px 1px 3px 1px rgba(0, 0, 0, 0.15);\n",
              "      filter: drop-shadow(0px 1px 2px rgba(0, 0, 0, 0.3));\n",
              "      fill: #FFFFFF;\n",
              "    }\n",
              "  </style>\n",
              "\n",
              "      <script>\n",
              "        const buttonEl =\n",
              "          document.querySelector('#df-bae52ac1-2c53-4184-bea5-f1881816026d button.colab-df-convert');\n",
              "        buttonEl.style.display =\n",
              "          google.colab.kernel.accessAllowed ? 'block' : 'none';\n",
              "\n",
              "        async function convertToInteractive(key) {\n",
              "          const element = document.querySelector('#df-bae52ac1-2c53-4184-bea5-f1881816026d');\n",
              "          const dataTable =\n",
              "            await google.colab.kernel.invokeFunction('convertToInteractive',\n",
              "                                                     [key], {});\n",
              "          if (!dataTable) return;\n",
              "\n",
              "          const docLinkHtml = 'Like what you see? Visit the ' +\n",
              "            '<a target=\"_blank\" href=https://colab.research.google.com/notebooks/data_table.ipynb>data table notebook</a>'\n",
              "            + ' to learn more about interactive tables.';\n",
              "          element.innerHTML = '';\n",
              "          dataTable['output_type'] = 'display_data';\n",
              "          await google.colab.output.renderOutput(dataTable, element);\n",
              "          const docLink = document.createElement('div');\n",
              "          docLink.innerHTML = docLinkHtml;\n",
              "          element.appendChild(docLink);\n",
              "        }\n",
              "      </script>\n",
              "    </div>\n",
              "  </div>\n",
              "  "
            ]
          },
          "metadata": {},
          "execution_count": 4
        }
      ]
    },
    {
      "cell_type": "code",
      "source": [
        "df.info()"
      ],
      "metadata": {
        "colab": {
          "base_uri": "https://localhost:8080/"
        },
        "id": "4Vzp76TmfNuF",
        "outputId": "2c9729f7-0157-4a24-d651-9edd7ee90594"
      },
      "execution_count": 5,
      "outputs": [
        {
          "output_type": "stream",
          "name": "stdout",
          "text": [
            "<class 'pandas.core.frame.DataFrame'>\n",
            "RangeIndex: 21340 entries, 0 to 21339\n",
            "Columns: 122 entries, SK_ID_CURR to AMT_REQ_CREDIT_BUREAU_YEAR\n",
            "dtypes: float64(85), int64(21), object(16)\n",
            "memory usage: 19.9+ MB\n"
          ]
        }
      ]
    },
    {
      "cell_type": "code",
      "source": [
        "df.describe()"
      ],
      "metadata": {
        "colab": {
          "base_uri": "https://localhost:8080/",
          "height": 394
        },
        "id": "kOMHMYb2fP4G",
        "outputId": "094ce6ec-157e-4f24-c095-6d85a162c8da"
      },
      "execution_count": 7,
      "outputs": [
        {
          "output_type": "execute_result",
          "data": {
            "text/plain": [
              "          SK_ID_CURR        TARGET  CNT_CHILDREN  AMT_INCOME_TOTAL  \\\n",
              "count   21340.000000  21340.000000  21340.000000      2.134000e+04   \n",
              "mean   112441.991799      0.078679      0.415651      1.737112e+05   \n",
              "std      7182.580764      0.269243      0.718731      8.059393e+05   \n",
              "min    100002.000000      0.000000      0.000000      2.565000e+04   \n",
              "25%    106237.750000      0.000000      0.000000      1.125000e+05   \n",
              "50%    112430.500000      0.000000      0.000000      1.440000e+05   \n",
              "75%    118674.250000      0.000000      1.000000      2.025000e+05   \n",
              "max    124860.000000      1.000000      8.000000      1.170000e+08   \n",
              "\n",
              "         AMT_CREDIT    AMT_ANNUITY  AMT_GOODS_PRICE  \\\n",
              "count  2.134000e+04   21340.000000     2.132300e+04   \n",
              "mean   5.993482e+05   27105.869775     5.388651e+05   \n",
              "std    4.018769e+05   14586.794762     3.694925e+05   \n",
              "min    4.500000e+04    2052.000000     4.500000e+04   \n",
              "25%    2.700000e+05   16456.500000     2.385000e+05   \n",
              "50%    5.147775e+05   24984.000000     4.500000e+05   \n",
              "75%    8.100000e+05   34659.000000     6.795000e+05   \n",
              "max    4.050000e+06  258025.500000     4.050000e+06   \n",
              "\n",
              "       REGION_POPULATION_RELATIVE    DAYS_BIRTH  DAYS_EMPLOYED  ...  \\\n",
              "count                21340.000000  21340.000000   21340.000000  ...   \n",
              "mean                     0.020725 -16005.506279   63274.745595  ...   \n",
              "std                      0.013788   4354.286476  140841.795754  ...   \n",
              "min                      0.000533 -25182.000000  -16365.000000  ...   \n",
              "25%                      0.010006 -19623.250000   -2782.000000  ...   \n",
              "50%                      0.018850 -15730.500000   -1229.000000  ...   \n",
              "75%                      0.028663 -12351.750000    -289.750000  ...   \n",
              "max                      0.072508  -7680.000000  365243.000000  ...   \n",
              "\n",
              "       FLAG_DOCUMENT_18  FLAG_DOCUMENT_19  FLAG_DOCUMENT_20  FLAG_DOCUMENT_21  \\\n",
              "count      21339.000000      21339.000000      21339.000000      21339.000000   \n",
              "mean           0.007732          0.000609          0.000609          0.000469   \n",
              "std            0.087595          0.024675          0.024675          0.021643   \n",
              "min            0.000000          0.000000          0.000000          0.000000   \n",
              "25%            0.000000          0.000000          0.000000          0.000000   \n",
              "50%            0.000000          0.000000          0.000000          0.000000   \n",
              "75%            0.000000          0.000000          0.000000          0.000000   \n",
              "max            1.000000          1.000000          1.000000          1.000000   \n",
              "\n",
              "       AMT_REQ_CREDIT_BUREAU_HOUR  AMT_REQ_CREDIT_BUREAU_DAY  \\\n",
              "count                18481.000000               18481.000000   \n",
              "mean                     0.007467                   0.007846   \n",
              "std                      0.087957                   0.116743   \n",
              "min                      0.000000                   0.000000   \n",
              "25%                      0.000000                   0.000000   \n",
              "50%                      0.000000                   0.000000   \n",
              "75%                      0.000000                   0.000000   \n",
              "max                      2.000000                   5.000000   \n",
              "\n",
              "       AMT_REQ_CREDIT_BUREAU_WEEK  AMT_REQ_CREDIT_BUREAU_MON  \\\n",
              "count                18481.000000               18481.000000   \n",
              "mean                     0.033007                   0.273903   \n",
              "std                      0.198188                   0.946671   \n",
              "min                      0.000000                   0.000000   \n",
              "25%                      0.000000                   0.000000   \n",
              "50%                      0.000000                   0.000000   \n",
              "75%                      0.000000                   0.000000   \n",
              "max                      5.000000                  24.000000   \n",
              "\n",
              "       AMT_REQ_CREDIT_BUREAU_QRT  AMT_REQ_CREDIT_BUREAU_YEAR  \n",
              "count               18481.000000                18481.000000  \n",
              "mean                    0.264488                    1.895136  \n",
              "std                     0.615509                    1.873586  \n",
              "min                     0.000000                    0.000000  \n",
              "25%                     0.000000                    0.000000  \n",
              "50%                     0.000000                    1.000000  \n",
              "75%                     0.000000                    3.000000  \n",
              "max                     8.000000                   25.000000  \n",
              "\n",
              "[8 rows x 106 columns]"
            ],
            "text/html": [
              "\n",
              "  <div id=\"df-595b6ccf-996f-4273-b5d3-aec242217a45\">\n",
              "    <div class=\"colab-df-container\">\n",
              "      <div>\n",
              "<style scoped>\n",
              "    .dataframe tbody tr th:only-of-type {\n",
              "        vertical-align: middle;\n",
              "    }\n",
              "\n",
              "    .dataframe tbody tr th {\n",
              "        vertical-align: top;\n",
              "    }\n",
              "\n",
              "    .dataframe thead th {\n",
              "        text-align: right;\n",
              "    }\n",
              "</style>\n",
              "<table border=\"1\" class=\"dataframe\">\n",
              "  <thead>\n",
              "    <tr style=\"text-align: right;\">\n",
              "      <th></th>\n",
              "      <th>SK_ID_CURR</th>\n",
              "      <th>TARGET</th>\n",
              "      <th>CNT_CHILDREN</th>\n",
              "      <th>AMT_INCOME_TOTAL</th>\n",
              "      <th>AMT_CREDIT</th>\n",
              "      <th>AMT_ANNUITY</th>\n",
              "      <th>AMT_GOODS_PRICE</th>\n",
              "      <th>REGION_POPULATION_RELATIVE</th>\n",
              "      <th>DAYS_BIRTH</th>\n",
              "      <th>DAYS_EMPLOYED</th>\n",
              "      <th>...</th>\n",
              "      <th>FLAG_DOCUMENT_18</th>\n",
              "      <th>FLAG_DOCUMENT_19</th>\n",
              "      <th>FLAG_DOCUMENT_20</th>\n",
              "      <th>FLAG_DOCUMENT_21</th>\n",
              "      <th>AMT_REQ_CREDIT_BUREAU_HOUR</th>\n",
              "      <th>AMT_REQ_CREDIT_BUREAU_DAY</th>\n",
              "      <th>AMT_REQ_CREDIT_BUREAU_WEEK</th>\n",
              "      <th>AMT_REQ_CREDIT_BUREAU_MON</th>\n",
              "      <th>AMT_REQ_CREDIT_BUREAU_QRT</th>\n",
              "      <th>AMT_REQ_CREDIT_BUREAU_YEAR</th>\n",
              "    </tr>\n",
              "  </thead>\n",
              "  <tbody>\n",
              "    <tr>\n",
              "      <th>count</th>\n",
              "      <td>21340.000000</td>\n",
              "      <td>21340.000000</td>\n",
              "      <td>21340.000000</td>\n",
              "      <td>2.134000e+04</td>\n",
              "      <td>2.134000e+04</td>\n",
              "      <td>21340.000000</td>\n",
              "      <td>2.132300e+04</td>\n",
              "      <td>21340.000000</td>\n",
              "      <td>21340.000000</td>\n",
              "      <td>21340.000000</td>\n",
              "      <td>...</td>\n",
              "      <td>21339.000000</td>\n",
              "      <td>21339.000000</td>\n",
              "      <td>21339.000000</td>\n",
              "      <td>21339.000000</td>\n",
              "      <td>18481.000000</td>\n",
              "      <td>18481.000000</td>\n",
              "      <td>18481.000000</td>\n",
              "      <td>18481.000000</td>\n",
              "      <td>18481.000000</td>\n",
              "      <td>18481.000000</td>\n",
              "    </tr>\n",
              "    <tr>\n",
              "      <th>mean</th>\n",
              "      <td>112441.991799</td>\n",
              "      <td>0.078679</td>\n",
              "      <td>0.415651</td>\n",
              "      <td>1.737112e+05</td>\n",
              "      <td>5.993482e+05</td>\n",
              "      <td>27105.869775</td>\n",
              "      <td>5.388651e+05</td>\n",
              "      <td>0.020725</td>\n",
              "      <td>-16005.506279</td>\n",
              "      <td>63274.745595</td>\n",
              "      <td>...</td>\n",
              "      <td>0.007732</td>\n",
              "      <td>0.000609</td>\n",
              "      <td>0.000609</td>\n",
              "      <td>0.000469</td>\n",
              "      <td>0.007467</td>\n",
              "      <td>0.007846</td>\n",
              "      <td>0.033007</td>\n",
              "      <td>0.273903</td>\n",
              "      <td>0.264488</td>\n",
              "      <td>1.895136</td>\n",
              "    </tr>\n",
              "    <tr>\n",
              "      <th>std</th>\n",
              "      <td>7182.580764</td>\n",
              "      <td>0.269243</td>\n",
              "      <td>0.718731</td>\n",
              "      <td>8.059393e+05</td>\n",
              "      <td>4.018769e+05</td>\n",
              "      <td>14586.794762</td>\n",
              "      <td>3.694925e+05</td>\n",
              "      <td>0.013788</td>\n",
              "      <td>4354.286476</td>\n",
              "      <td>140841.795754</td>\n",
              "      <td>...</td>\n",
              "      <td>0.087595</td>\n",
              "      <td>0.024675</td>\n",
              "      <td>0.024675</td>\n",
              "      <td>0.021643</td>\n",
              "      <td>0.087957</td>\n",
              "      <td>0.116743</td>\n",
              "      <td>0.198188</td>\n",
              "      <td>0.946671</td>\n",
              "      <td>0.615509</td>\n",
              "      <td>1.873586</td>\n",
              "    </tr>\n",
              "    <tr>\n",
              "      <th>min</th>\n",
              "      <td>100002.000000</td>\n",
              "      <td>0.000000</td>\n",
              "      <td>0.000000</td>\n",
              "      <td>2.565000e+04</td>\n",
              "      <td>4.500000e+04</td>\n",
              "      <td>2052.000000</td>\n",
              "      <td>4.500000e+04</td>\n",
              "      <td>0.000533</td>\n",
              "      <td>-25182.000000</td>\n",
              "      <td>-16365.000000</td>\n",
              "      <td>...</td>\n",
              "      <td>0.000000</td>\n",
              "      <td>0.000000</td>\n",
              "      <td>0.000000</td>\n",
              "      <td>0.000000</td>\n",
              "      <td>0.000000</td>\n",
              "      <td>0.000000</td>\n",
              "      <td>0.000000</td>\n",
              "      <td>0.000000</td>\n",
              "      <td>0.000000</td>\n",
              "      <td>0.000000</td>\n",
              "    </tr>\n",
              "    <tr>\n",
              "      <th>25%</th>\n",
              "      <td>106237.750000</td>\n",
              "      <td>0.000000</td>\n",
              "      <td>0.000000</td>\n",
              "      <td>1.125000e+05</td>\n",
              "      <td>2.700000e+05</td>\n",
              "      <td>16456.500000</td>\n",
              "      <td>2.385000e+05</td>\n",
              "      <td>0.010006</td>\n",
              "      <td>-19623.250000</td>\n",
              "      <td>-2782.000000</td>\n",
              "      <td>...</td>\n",
              "      <td>0.000000</td>\n",
              "      <td>0.000000</td>\n",
              "      <td>0.000000</td>\n",
              "      <td>0.000000</td>\n",
              "      <td>0.000000</td>\n",
              "      <td>0.000000</td>\n",
              "      <td>0.000000</td>\n",
              "      <td>0.000000</td>\n",
              "      <td>0.000000</td>\n",
              "      <td>0.000000</td>\n",
              "    </tr>\n",
              "    <tr>\n",
              "      <th>50%</th>\n",
              "      <td>112430.500000</td>\n",
              "      <td>0.000000</td>\n",
              "      <td>0.000000</td>\n",
              "      <td>1.440000e+05</td>\n",
              "      <td>5.147775e+05</td>\n",
              "      <td>24984.000000</td>\n",
              "      <td>4.500000e+05</td>\n",
              "      <td>0.018850</td>\n",
              "      <td>-15730.500000</td>\n",
              "      <td>-1229.000000</td>\n",
              "      <td>...</td>\n",
              "      <td>0.000000</td>\n",
              "      <td>0.000000</td>\n",
              "      <td>0.000000</td>\n",
              "      <td>0.000000</td>\n",
              "      <td>0.000000</td>\n",
              "      <td>0.000000</td>\n",
              "      <td>0.000000</td>\n",
              "      <td>0.000000</td>\n",
              "      <td>0.000000</td>\n",
              "      <td>1.000000</td>\n",
              "    </tr>\n",
              "    <tr>\n",
              "      <th>75%</th>\n",
              "      <td>118674.250000</td>\n",
              "      <td>0.000000</td>\n",
              "      <td>1.000000</td>\n",
              "      <td>2.025000e+05</td>\n",
              "      <td>8.100000e+05</td>\n",
              "      <td>34659.000000</td>\n",
              "      <td>6.795000e+05</td>\n",
              "      <td>0.028663</td>\n",
              "      <td>-12351.750000</td>\n",
              "      <td>-289.750000</td>\n",
              "      <td>...</td>\n",
              "      <td>0.000000</td>\n",
              "      <td>0.000000</td>\n",
              "      <td>0.000000</td>\n",
              "      <td>0.000000</td>\n",
              "      <td>0.000000</td>\n",
              "      <td>0.000000</td>\n",
              "      <td>0.000000</td>\n",
              "      <td>0.000000</td>\n",
              "      <td>0.000000</td>\n",
              "      <td>3.000000</td>\n",
              "    </tr>\n",
              "    <tr>\n",
              "      <th>max</th>\n",
              "      <td>124860.000000</td>\n",
              "      <td>1.000000</td>\n",
              "      <td>8.000000</td>\n",
              "      <td>1.170000e+08</td>\n",
              "      <td>4.050000e+06</td>\n",
              "      <td>258025.500000</td>\n",
              "      <td>4.050000e+06</td>\n",
              "      <td>0.072508</td>\n",
              "      <td>-7680.000000</td>\n",
              "      <td>365243.000000</td>\n",
              "      <td>...</td>\n",
              "      <td>1.000000</td>\n",
              "      <td>1.000000</td>\n",
              "      <td>1.000000</td>\n",
              "      <td>1.000000</td>\n",
              "      <td>2.000000</td>\n",
              "      <td>5.000000</td>\n",
              "      <td>5.000000</td>\n",
              "      <td>24.000000</td>\n",
              "      <td>8.000000</td>\n",
              "      <td>25.000000</td>\n",
              "    </tr>\n",
              "  </tbody>\n",
              "</table>\n",
              "<p>8 rows × 106 columns</p>\n",
              "</div>\n",
              "      <button class=\"colab-df-convert\" onclick=\"convertToInteractive('df-595b6ccf-996f-4273-b5d3-aec242217a45')\"\n",
              "              title=\"Convert this dataframe to an interactive table.\"\n",
              "              style=\"display:none;\">\n",
              "        \n",
              "  <svg xmlns=\"http://www.w3.org/2000/svg\" height=\"24px\"viewBox=\"0 0 24 24\"\n",
              "       width=\"24px\">\n",
              "    <path d=\"M0 0h24v24H0V0z\" fill=\"none\"/>\n",
              "    <path d=\"M18.56 5.44l.94 2.06.94-2.06 2.06-.94-2.06-.94-.94-2.06-.94 2.06-2.06.94zm-11 1L8.5 8.5l.94-2.06 2.06-.94-2.06-.94L8.5 2.5l-.94 2.06-2.06.94zm10 10l.94 2.06.94-2.06 2.06-.94-2.06-.94-.94-2.06-.94 2.06-2.06.94z\"/><path d=\"M17.41 7.96l-1.37-1.37c-.4-.4-.92-.59-1.43-.59-.52 0-1.04.2-1.43.59L10.3 9.45l-7.72 7.72c-.78.78-.78 2.05 0 2.83L4 21.41c.39.39.9.59 1.41.59.51 0 1.02-.2 1.41-.59l7.78-7.78 2.81-2.81c.8-.78.8-2.07 0-2.86zM5.41 20L4 18.59l7.72-7.72 1.47 1.35L5.41 20z\"/>\n",
              "  </svg>\n",
              "      </button>\n",
              "      \n",
              "  <style>\n",
              "    .colab-df-container {\n",
              "      display:flex;\n",
              "      flex-wrap:wrap;\n",
              "      gap: 12px;\n",
              "    }\n",
              "\n",
              "    .colab-df-convert {\n",
              "      background-color: #E8F0FE;\n",
              "      border: none;\n",
              "      border-radius: 50%;\n",
              "      cursor: pointer;\n",
              "      display: none;\n",
              "      fill: #1967D2;\n",
              "      height: 32px;\n",
              "      padding: 0 0 0 0;\n",
              "      width: 32px;\n",
              "    }\n",
              "\n",
              "    .colab-df-convert:hover {\n",
              "      background-color: #E2EBFA;\n",
              "      box-shadow: 0px 1px 2px rgba(60, 64, 67, 0.3), 0px 1px 3px 1px rgba(60, 64, 67, 0.15);\n",
              "      fill: #174EA6;\n",
              "    }\n",
              "\n",
              "    [theme=dark] .colab-df-convert {\n",
              "      background-color: #3B4455;\n",
              "      fill: #D2E3FC;\n",
              "    }\n",
              "\n",
              "    [theme=dark] .colab-df-convert:hover {\n",
              "      background-color: #434B5C;\n",
              "      box-shadow: 0px 1px 3px 1px rgba(0, 0, 0, 0.15);\n",
              "      filter: drop-shadow(0px 1px 2px rgba(0, 0, 0, 0.3));\n",
              "      fill: #FFFFFF;\n",
              "    }\n",
              "  </style>\n",
              "\n",
              "      <script>\n",
              "        const buttonEl =\n",
              "          document.querySelector('#df-595b6ccf-996f-4273-b5d3-aec242217a45 button.colab-df-convert');\n",
              "        buttonEl.style.display =\n",
              "          google.colab.kernel.accessAllowed ? 'block' : 'none';\n",
              "\n",
              "        async function convertToInteractive(key) {\n",
              "          const element = document.querySelector('#df-595b6ccf-996f-4273-b5d3-aec242217a45');\n",
              "          const dataTable =\n",
              "            await google.colab.kernel.invokeFunction('convertToInteractive',\n",
              "                                                     [key], {});\n",
              "          if (!dataTable) return;\n",
              "\n",
              "          const docLinkHtml = 'Like what you see? Visit the ' +\n",
              "            '<a target=\"_blank\" href=https://colab.research.google.com/notebooks/data_table.ipynb>data table notebook</a>'\n",
              "            + ' to learn more about interactive tables.';\n",
              "          element.innerHTML = '';\n",
              "          dataTable['output_type'] = 'display_data';\n",
              "          await google.colab.output.renderOutput(dataTable, element);\n",
              "          const docLink = document.createElement('div');\n",
              "          docLink.innerHTML = docLinkHtml;\n",
              "          element.appendChild(docLink);\n",
              "        }\n",
              "      </script>\n",
              "    </div>\n",
              "  </div>\n",
              "  "
            ]
          },
          "metadata": {},
          "execution_count": 7
        }
      ]
    },
    {
      "cell_type": "code",
      "source": [
        "df.isnull()"
      ],
      "metadata": {
        "colab": {
          "base_uri": "https://localhost:8080/",
          "height": 488
        },
        "id": "nMKSfJ-ofaGx",
        "outputId": "47c07f22-ce01-4950-8bec-cfbf92eb9b29"
      },
      "execution_count": 8,
      "outputs": [
        {
          "output_type": "execute_result",
          "data": {
            "text/plain": [
              "       SK_ID_CURR  TARGET  NAME_CONTRACT_TYPE  CODE_GENDER  FLAG_OWN_CAR  \\\n",
              "0           False   False               False        False         False   \n",
              "1           False   False               False        False         False   \n",
              "2           False   False               False        False         False   \n",
              "3           False   False               False        False         False   \n",
              "4           False   False               False        False         False   \n",
              "...           ...     ...                 ...          ...           ...   \n",
              "21335       False   False               False        False         False   \n",
              "21336       False   False               False        False         False   \n",
              "21337       False   False               False        False         False   \n",
              "21338       False   False               False        False         False   \n",
              "21339       False   False               False        False         False   \n",
              "\n",
              "       FLAG_OWN_REALTY  CNT_CHILDREN  AMT_INCOME_TOTAL  AMT_CREDIT  \\\n",
              "0                False         False             False       False   \n",
              "1                False         False             False       False   \n",
              "2                False         False             False       False   \n",
              "3                False         False             False       False   \n",
              "4                False         False             False       False   \n",
              "...                ...           ...               ...         ...   \n",
              "21335            False         False             False       False   \n",
              "21336            False         False             False       False   \n",
              "21337            False         False             False       False   \n",
              "21338            False         False             False       False   \n",
              "21339            False         False             False       False   \n",
              "\n",
              "       AMT_ANNUITY  ...  FLAG_DOCUMENT_18  FLAG_DOCUMENT_19  FLAG_DOCUMENT_20  \\\n",
              "0            False  ...             False             False             False   \n",
              "1            False  ...             False             False             False   \n",
              "2            False  ...             False             False             False   \n",
              "3            False  ...             False             False             False   \n",
              "4            False  ...             False             False             False   \n",
              "...            ...  ...               ...               ...               ...   \n",
              "21335        False  ...             False             False             False   \n",
              "21336        False  ...             False             False             False   \n",
              "21337        False  ...             False             False             False   \n",
              "21338        False  ...             False             False             False   \n",
              "21339        False  ...              True              True              True   \n",
              "\n",
              "       FLAG_DOCUMENT_21  AMT_REQ_CREDIT_BUREAU_HOUR  \\\n",
              "0                 False                       False   \n",
              "1                 False                       False   \n",
              "2                 False                       False   \n",
              "3                 False                        True   \n",
              "4                 False                       False   \n",
              "...                 ...                         ...   \n",
              "21335             False                       False   \n",
              "21336             False                       False   \n",
              "21337             False                       False   \n",
              "21338             False                       False   \n",
              "21339              True                        True   \n",
              "\n",
              "       AMT_REQ_CREDIT_BUREAU_DAY  AMT_REQ_CREDIT_BUREAU_WEEK  \\\n",
              "0                          False                       False   \n",
              "1                          False                       False   \n",
              "2                          False                       False   \n",
              "3                           True                        True   \n",
              "4                          False                       False   \n",
              "...                          ...                         ...   \n",
              "21335                      False                       False   \n",
              "21336                      False                       False   \n",
              "21337                      False                       False   \n",
              "21338                      False                       False   \n",
              "21339                       True                        True   \n",
              "\n",
              "       AMT_REQ_CREDIT_BUREAU_MON  AMT_REQ_CREDIT_BUREAU_QRT  \\\n",
              "0                          False                      False   \n",
              "1                          False                      False   \n",
              "2                          False                      False   \n",
              "3                           True                       True   \n",
              "4                          False                      False   \n",
              "...                          ...                        ...   \n",
              "21335                      False                      False   \n",
              "21336                      False                      False   \n",
              "21337                      False                      False   \n",
              "21338                      False                      False   \n",
              "21339                       True                       True   \n",
              "\n",
              "       AMT_REQ_CREDIT_BUREAU_YEAR  \n",
              "0                           False  \n",
              "1                           False  \n",
              "2                           False  \n",
              "3                            True  \n",
              "4                           False  \n",
              "...                           ...  \n",
              "21335                       False  \n",
              "21336                       False  \n",
              "21337                       False  \n",
              "21338                       False  \n",
              "21339                        True  \n",
              "\n",
              "[21340 rows x 122 columns]"
            ],
            "text/html": [
              "\n",
              "  <div id=\"df-76e3672f-e05e-4554-b1d7-a3b7e5aa4b1f\">\n",
              "    <div class=\"colab-df-container\">\n",
              "      <div>\n",
              "<style scoped>\n",
              "    .dataframe tbody tr th:only-of-type {\n",
              "        vertical-align: middle;\n",
              "    }\n",
              "\n",
              "    .dataframe tbody tr th {\n",
              "        vertical-align: top;\n",
              "    }\n",
              "\n",
              "    .dataframe thead th {\n",
              "        text-align: right;\n",
              "    }\n",
              "</style>\n",
              "<table border=\"1\" class=\"dataframe\">\n",
              "  <thead>\n",
              "    <tr style=\"text-align: right;\">\n",
              "      <th></th>\n",
              "      <th>SK_ID_CURR</th>\n",
              "      <th>TARGET</th>\n",
              "      <th>NAME_CONTRACT_TYPE</th>\n",
              "      <th>CODE_GENDER</th>\n",
              "      <th>FLAG_OWN_CAR</th>\n",
              "      <th>FLAG_OWN_REALTY</th>\n",
              "      <th>CNT_CHILDREN</th>\n",
              "      <th>AMT_INCOME_TOTAL</th>\n",
              "      <th>AMT_CREDIT</th>\n",
              "      <th>AMT_ANNUITY</th>\n",
              "      <th>...</th>\n",
              "      <th>FLAG_DOCUMENT_18</th>\n",
              "      <th>FLAG_DOCUMENT_19</th>\n",
              "      <th>FLAG_DOCUMENT_20</th>\n",
              "      <th>FLAG_DOCUMENT_21</th>\n",
              "      <th>AMT_REQ_CREDIT_BUREAU_HOUR</th>\n",
              "      <th>AMT_REQ_CREDIT_BUREAU_DAY</th>\n",
              "      <th>AMT_REQ_CREDIT_BUREAU_WEEK</th>\n",
              "      <th>AMT_REQ_CREDIT_BUREAU_MON</th>\n",
              "      <th>AMT_REQ_CREDIT_BUREAU_QRT</th>\n",
              "      <th>AMT_REQ_CREDIT_BUREAU_YEAR</th>\n",
              "    </tr>\n",
              "  </thead>\n",
              "  <tbody>\n",
              "    <tr>\n",
              "      <th>0</th>\n",
              "      <td>False</td>\n",
              "      <td>False</td>\n",
              "      <td>False</td>\n",
              "      <td>False</td>\n",
              "      <td>False</td>\n",
              "      <td>False</td>\n",
              "      <td>False</td>\n",
              "      <td>False</td>\n",
              "      <td>False</td>\n",
              "      <td>False</td>\n",
              "      <td>...</td>\n",
              "      <td>False</td>\n",
              "      <td>False</td>\n",
              "      <td>False</td>\n",
              "      <td>False</td>\n",
              "      <td>False</td>\n",
              "      <td>False</td>\n",
              "      <td>False</td>\n",
              "      <td>False</td>\n",
              "      <td>False</td>\n",
              "      <td>False</td>\n",
              "    </tr>\n",
              "    <tr>\n",
              "      <th>1</th>\n",
              "      <td>False</td>\n",
              "      <td>False</td>\n",
              "      <td>False</td>\n",
              "      <td>False</td>\n",
              "      <td>False</td>\n",
              "      <td>False</td>\n",
              "      <td>False</td>\n",
              "      <td>False</td>\n",
              "      <td>False</td>\n",
              "      <td>False</td>\n",
              "      <td>...</td>\n",
              "      <td>False</td>\n",
              "      <td>False</td>\n",
              "      <td>False</td>\n",
              "      <td>False</td>\n",
              "      <td>False</td>\n",
              "      <td>False</td>\n",
              "      <td>False</td>\n",
              "      <td>False</td>\n",
              "      <td>False</td>\n",
              "      <td>False</td>\n",
              "    </tr>\n",
              "    <tr>\n",
              "      <th>2</th>\n",
              "      <td>False</td>\n",
              "      <td>False</td>\n",
              "      <td>False</td>\n",
              "      <td>False</td>\n",
              "      <td>False</td>\n",
              "      <td>False</td>\n",
              "      <td>False</td>\n",
              "      <td>False</td>\n",
              "      <td>False</td>\n",
              "      <td>False</td>\n",
              "      <td>...</td>\n",
              "      <td>False</td>\n",
              "      <td>False</td>\n",
              "      <td>False</td>\n",
              "      <td>False</td>\n",
              "      <td>False</td>\n",
              "      <td>False</td>\n",
              "      <td>False</td>\n",
              "      <td>False</td>\n",
              "      <td>False</td>\n",
              "      <td>False</td>\n",
              "    </tr>\n",
              "    <tr>\n",
              "      <th>3</th>\n",
              "      <td>False</td>\n",
              "      <td>False</td>\n",
              "      <td>False</td>\n",
              "      <td>False</td>\n",
              "      <td>False</td>\n",
              "      <td>False</td>\n",
              "      <td>False</td>\n",
              "      <td>False</td>\n",
              "      <td>False</td>\n",
              "      <td>False</td>\n",
              "      <td>...</td>\n",
              "      <td>False</td>\n",
              "      <td>False</td>\n",
              "      <td>False</td>\n",
              "      <td>False</td>\n",
              "      <td>True</td>\n",
              "      <td>True</td>\n",
              "      <td>True</td>\n",
              "      <td>True</td>\n",
              "      <td>True</td>\n",
              "      <td>True</td>\n",
              "    </tr>\n",
              "    <tr>\n",
              "      <th>4</th>\n",
              "      <td>False</td>\n",
              "      <td>False</td>\n",
              "      <td>False</td>\n",
              "      <td>False</td>\n",
              "      <td>False</td>\n",
              "      <td>False</td>\n",
              "      <td>False</td>\n",
              "      <td>False</td>\n",
              "      <td>False</td>\n",
              "      <td>False</td>\n",
              "      <td>...</td>\n",
              "      <td>False</td>\n",
              "      <td>False</td>\n",
              "      <td>False</td>\n",
              "      <td>False</td>\n",
              "      <td>False</td>\n",
              "      <td>False</td>\n",
              "      <td>False</td>\n",
              "      <td>False</td>\n",
              "      <td>False</td>\n",
              "      <td>False</td>\n",
              "    </tr>\n",
              "    <tr>\n",
              "      <th>...</th>\n",
              "      <td>...</td>\n",
              "      <td>...</td>\n",
              "      <td>...</td>\n",
              "      <td>...</td>\n",
              "      <td>...</td>\n",
              "      <td>...</td>\n",
              "      <td>...</td>\n",
              "      <td>...</td>\n",
              "      <td>...</td>\n",
              "      <td>...</td>\n",
              "      <td>...</td>\n",
              "      <td>...</td>\n",
              "      <td>...</td>\n",
              "      <td>...</td>\n",
              "      <td>...</td>\n",
              "      <td>...</td>\n",
              "      <td>...</td>\n",
              "      <td>...</td>\n",
              "      <td>...</td>\n",
              "      <td>...</td>\n",
              "      <td>...</td>\n",
              "    </tr>\n",
              "    <tr>\n",
              "      <th>21335</th>\n",
              "      <td>False</td>\n",
              "      <td>False</td>\n",
              "      <td>False</td>\n",
              "      <td>False</td>\n",
              "      <td>False</td>\n",
              "      <td>False</td>\n",
              "      <td>False</td>\n",
              "      <td>False</td>\n",
              "      <td>False</td>\n",
              "      <td>False</td>\n",
              "      <td>...</td>\n",
              "      <td>False</td>\n",
              "      <td>False</td>\n",
              "      <td>False</td>\n",
              "      <td>False</td>\n",
              "      <td>False</td>\n",
              "      <td>False</td>\n",
              "      <td>False</td>\n",
              "      <td>False</td>\n",
              "      <td>False</td>\n",
              "      <td>False</td>\n",
              "    </tr>\n",
              "    <tr>\n",
              "      <th>21336</th>\n",
              "      <td>False</td>\n",
              "      <td>False</td>\n",
              "      <td>False</td>\n",
              "      <td>False</td>\n",
              "      <td>False</td>\n",
              "      <td>False</td>\n",
              "      <td>False</td>\n",
              "      <td>False</td>\n",
              "      <td>False</td>\n",
              "      <td>False</td>\n",
              "      <td>...</td>\n",
              "      <td>False</td>\n",
              "      <td>False</td>\n",
              "      <td>False</td>\n",
              "      <td>False</td>\n",
              "      <td>False</td>\n",
              "      <td>False</td>\n",
              "      <td>False</td>\n",
              "      <td>False</td>\n",
              "      <td>False</td>\n",
              "      <td>False</td>\n",
              "    </tr>\n",
              "    <tr>\n",
              "      <th>21337</th>\n",
              "      <td>False</td>\n",
              "      <td>False</td>\n",
              "      <td>False</td>\n",
              "      <td>False</td>\n",
              "      <td>False</td>\n",
              "      <td>False</td>\n",
              "      <td>False</td>\n",
              "      <td>False</td>\n",
              "      <td>False</td>\n",
              "      <td>False</td>\n",
              "      <td>...</td>\n",
              "      <td>False</td>\n",
              "      <td>False</td>\n",
              "      <td>False</td>\n",
              "      <td>False</td>\n",
              "      <td>False</td>\n",
              "      <td>False</td>\n",
              "      <td>False</td>\n",
              "      <td>False</td>\n",
              "      <td>False</td>\n",
              "      <td>False</td>\n",
              "    </tr>\n",
              "    <tr>\n",
              "      <th>21338</th>\n",
              "      <td>False</td>\n",
              "      <td>False</td>\n",
              "      <td>False</td>\n",
              "      <td>False</td>\n",
              "      <td>False</td>\n",
              "      <td>False</td>\n",
              "      <td>False</td>\n",
              "      <td>False</td>\n",
              "      <td>False</td>\n",
              "      <td>False</td>\n",
              "      <td>...</td>\n",
              "      <td>False</td>\n",
              "      <td>False</td>\n",
              "      <td>False</td>\n",
              "      <td>False</td>\n",
              "      <td>False</td>\n",
              "      <td>False</td>\n",
              "      <td>False</td>\n",
              "      <td>False</td>\n",
              "      <td>False</td>\n",
              "      <td>False</td>\n",
              "    </tr>\n",
              "    <tr>\n",
              "      <th>21339</th>\n",
              "      <td>False</td>\n",
              "      <td>False</td>\n",
              "      <td>False</td>\n",
              "      <td>False</td>\n",
              "      <td>False</td>\n",
              "      <td>False</td>\n",
              "      <td>False</td>\n",
              "      <td>False</td>\n",
              "      <td>False</td>\n",
              "      <td>False</td>\n",
              "      <td>...</td>\n",
              "      <td>True</td>\n",
              "      <td>True</td>\n",
              "      <td>True</td>\n",
              "      <td>True</td>\n",
              "      <td>True</td>\n",
              "      <td>True</td>\n",
              "      <td>True</td>\n",
              "      <td>True</td>\n",
              "      <td>True</td>\n",
              "      <td>True</td>\n",
              "    </tr>\n",
              "  </tbody>\n",
              "</table>\n",
              "<p>21340 rows × 122 columns</p>\n",
              "</div>\n",
              "      <button class=\"colab-df-convert\" onclick=\"convertToInteractive('df-76e3672f-e05e-4554-b1d7-a3b7e5aa4b1f')\"\n",
              "              title=\"Convert this dataframe to an interactive table.\"\n",
              "              style=\"display:none;\">\n",
              "        \n",
              "  <svg xmlns=\"http://www.w3.org/2000/svg\" height=\"24px\"viewBox=\"0 0 24 24\"\n",
              "       width=\"24px\">\n",
              "    <path d=\"M0 0h24v24H0V0z\" fill=\"none\"/>\n",
              "    <path d=\"M18.56 5.44l.94 2.06.94-2.06 2.06-.94-2.06-.94-.94-2.06-.94 2.06-2.06.94zm-11 1L8.5 8.5l.94-2.06 2.06-.94-2.06-.94L8.5 2.5l-.94 2.06-2.06.94zm10 10l.94 2.06.94-2.06 2.06-.94-2.06-.94-.94-2.06-.94 2.06-2.06.94z\"/><path d=\"M17.41 7.96l-1.37-1.37c-.4-.4-.92-.59-1.43-.59-.52 0-1.04.2-1.43.59L10.3 9.45l-7.72 7.72c-.78.78-.78 2.05 0 2.83L4 21.41c.39.39.9.59 1.41.59.51 0 1.02-.2 1.41-.59l7.78-7.78 2.81-2.81c.8-.78.8-2.07 0-2.86zM5.41 20L4 18.59l7.72-7.72 1.47 1.35L5.41 20z\"/>\n",
              "  </svg>\n",
              "      </button>\n",
              "      \n",
              "  <style>\n",
              "    .colab-df-container {\n",
              "      display:flex;\n",
              "      flex-wrap:wrap;\n",
              "      gap: 12px;\n",
              "    }\n",
              "\n",
              "    .colab-df-convert {\n",
              "      background-color: #E8F0FE;\n",
              "      border: none;\n",
              "      border-radius: 50%;\n",
              "      cursor: pointer;\n",
              "      display: none;\n",
              "      fill: #1967D2;\n",
              "      height: 32px;\n",
              "      padding: 0 0 0 0;\n",
              "      width: 32px;\n",
              "    }\n",
              "\n",
              "    .colab-df-convert:hover {\n",
              "      background-color: #E2EBFA;\n",
              "      box-shadow: 0px 1px 2px rgba(60, 64, 67, 0.3), 0px 1px 3px 1px rgba(60, 64, 67, 0.15);\n",
              "      fill: #174EA6;\n",
              "    }\n",
              "\n",
              "    [theme=dark] .colab-df-convert {\n",
              "      background-color: #3B4455;\n",
              "      fill: #D2E3FC;\n",
              "    }\n",
              "\n",
              "    [theme=dark] .colab-df-convert:hover {\n",
              "      background-color: #434B5C;\n",
              "      box-shadow: 0px 1px 3px 1px rgba(0, 0, 0, 0.15);\n",
              "      filter: drop-shadow(0px 1px 2px rgba(0, 0, 0, 0.3));\n",
              "      fill: #FFFFFF;\n",
              "    }\n",
              "  </style>\n",
              "\n",
              "      <script>\n",
              "        const buttonEl =\n",
              "          document.querySelector('#df-76e3672f-e05e-4554-b1d7-a3b7e5aa4b1f button.colab-df-convert');\n",
              "        buttonEl.style.display =\n",
              "          google.colab.kernel.accessAllowed ? 'block' : 'none';\n",
              "\n",
              "        async function convertToInteractive(key) {\n",
              "          const element = document.querySelector('#df-76e3672f-e05e-4554-b1d7-a3b7e5aa4b1f');\n",
              "          const dataTable =\n",
              "            await google.colab.kernel.invokeFunction('convertToInteractive',\n",
              "                                                     [key], {});\n",
              "          if (!dataTable) return;\n",
              "\n",
              "          const docLinkHtml = 'Like what you see? Visit the ' +\n",
              "            '<a target=\"_blank\" href=https://colab.research.google.com/notebooks/data_table.ipynb>data table notebook</a>'\n",
              "            + ' to learn more about interactive tables.';\n",
              "          element.innerHTML = '';\n",
              "          dataTable['output_type'] = 'display_data';\n",
              "          await google.colab.output.renderOutput(dataTable, element);\n",
              "          const docLink = document.createElement('div');\n",
              "          docLink.innerHTML = docLinkHtml;\n",
              "          element.appendChild(docLink);\n",
              "        }\n",
              "      </script>\n",
              "    </div>\n",
              "  </div>\n",
              "  "
            ]
          },
          "metadata": {},
          "execution_count": 8
        }
      ]
    },
    {
      "cell_type": "code",
      "source": [
        "plt.xlabel('target')\n",
        "plt.bar([0,1], df['TARGET'].value_counts())"
      ],
      "metadata": {
        "colab": {
          "base_uri": "https://localhost:8080/",
          "height": 296
        },
        "id": "M8GPk55mfnd3",
        "outputId": "40cf743e-59fc-49bc-d970-9c08aeddefa5"
      },
      "execution_count": 10,
      "outputs": [
        {
          "output_type": "execute_result",
          "data": {
            "text/plain": [
              "<BarContainer object of 2 artists>"
            ]
          },
          "metadata": {},
          "execution_count": 10
        },
        {
          "output_type": "display_data",
          "data": {
            "text/plain": [
              "<Figure size 432x288 with 1 Axes>"
            ],
            "image/png": "[encoded data removed]"
          },
          "metadata": {
            "needs_background": "light"
          }
        }
      ]
    },
    {
      "cell_type": "code",
      "source": [
        "\"\"\"\n",
        "それぞれ結果に対する説明や考察も行ってください。\n",
        "\"\"\"\n",
        "返済できた人のほうが圧倒的に多い。\n",
        "ほとんどが欠損値の特徴量がある。"
      ],
      "metadata": {
        "id": "euhAbB8XgA6Z"
      },
      "execution_count": null,
      "outputs": []
    },
    {
      "cell_type": "code",
      "source": [
        "# 問題3\n",
        "\n",
        "どんな人が返済できず、返済できなかったのか。\n",
        "収入に対しての借りた額\n",
        "性別 　\n",
        "ローンの種類\n",
        "収入源\n",
        "家族の状況\n",
        "職業 　\n",
        "車の所有の有無\n",
        "学歴\n",
        "年齢 　\n",
        "など 　"
      ],
      "metadata": {
        "id": "OkXEia3LgL2j"
      },
      "execution_count": null,
      "outputs": []
    },
    {
      "cell_type": "code",
      "source": [
        "# 問題4\n",
        "\n",
        "corr_df = df.corr()\n",
        "corr_df"
      ],
      "metadata": {
        "colab": {
          "base_uri": "https://localhost:8080/",
          "height": 488
        },
        "id": "ID2yf0f4g1dY",
        "outputId": "552544c2-a207-491b-c7c3-4e04cd6d5760"
      },
      "execution_count": 11,
      "outputs": [
        {
          "output_type": "execute_result",
          "data": {
            "text/plain": [
              "                            SK_ID_CURR    TARGET  CNT_CHILDREN  \\\n",
              "SK_ID_CURR                    1.000000  0.004667     -0.003233   \n",
              "TARGET                        0.004667  1.000000      0.034417   \n",
              "CNT_CHILDREN                 -0.003233  0.034417      1.000000   \n",
              "AMT_INCOME_TOTAL              0.003050  0.021384      0.009897   \n",
              "AMT_CREDIT                   -0.004999 -0.029590      0.003961   \n",
              "...                                ...       ...           ...   \n",
              "AMT_REQ_CREDIT_BUREAU_DAY    -0.002539  0.019336     -0.013674   \n",
              "AMT_REQ_CREDIT_BUREAU_WEEK   -0.002697  0.011209      0.001830   \n",
              "AMT_REQ_CREDIT_BUREAU_MON     0.002039 -0.016842     -0.019433   \n",
              "AMT_REQ_CREDIT_BUREAU_QRT    -0.007166  0.005734     -0.012815   \n",
              "AMT_REQ_CREDIT_BUREAU_YEAR    0.009536  0.028681     -0.036128   \n",
              "\n",
              "                            AMT_INCOME_TOTAL  AMT_CREDIT  AMT_ANNUITY  \\\n",
              "SK_ID_CURR                          0.003050   -0.004999    -0.000464   \n",
              "TARGET                              0.021384   -0.029590    -0.001275   \n",
              "CNT_CHILDREN                        0.009897    0.003961     0.028293   \n",
              "AMT_INCOME_TOTAL                    1.000000    0.045780     0.054884   \n",
              "AMT_CREDIT                          0.045780    1.000000     0.777308   \n",
              "...                                      ...         ...          ...   \n",
              "AMT_REQ_CREDIT_BUREAU_DAY           0.001936    0.019199     0.015806   \n",
              "AMT_REQ_CREDIT_BUREAU_WEEK          0.000956    0.016347     0.030374   \n",
              "AMT_REQ_CREDIT_BUREAU_MON           0.006805    0.057614     0.033482   \n",
              "AMT_REQ_CREDIT_BUREAU_QRT          -0.002432    0.012247     0.004329   \n",
              "AMT_REQ_CREDIT_BUREAU_YEAR         -0.000995   -0.033763    -0.001659   \n",
              "\n",
              "                            AMT_GOODS_PRICE  REGION_POPULATION_RELATIVE  \\\n",
              "SK_ID_CURR                        -0.005352                   -0.012007   \n",
              "TARGET                            -0.036187                   -0.034141   \n",
              "CNT_CHILDREN                      -0.000650                   -0.021682   \n",
              "AMT_INCOME_TOTAL                   0.045633                    0.017816   \n",
              "AMT_CREDIT                         0.986837                    0.099437   \n",
              "...                                     ...                         ...   \n",
              "AMT_REQ_CREDIT_BUREAU_DAY          0.018530                    0.011065   \n",
              "AMT_REQ_CREDIT_BUREAU_WEEK         0.017439                    0.011645   \n",
              "AMT_REQ_CREDIT_BUREAU_MON          0.058419                    0.088110   \n",
              "AMT_REQ_CREDIT_BUREAU_QRT          0.012341                   -0.005047   \n",
              "AMT_REQ_CREDIT_BUREAU_YEAR        -0.037386                    0.004042   \n",
              "\n",
              "                            DAYS_BIRTH  DAYS_EMPLOYED  ...  FLAG_DOCUMENT_18  \\\n",
              "SK_ID_CURR                    0.001763       0.000890  ...          0.003610   \n",
              "TARGET                        0.086518      -0.042951  ...         -0.003940   \n",
              "CNT_CHILDREN                  0.331149      -0.239758  ...          0.002542   \n",
              "AMT_INCOME_TOTAL              0.012838      -0.021990  ...         -0.000565   \n",
              "AMT_CREDIT                   -0.068481      -0.066455  ...          0.022245   \n",
              "...                                ...            ...  ...               ...   \n",
              "AMT_REQ_CREDIT_BUREAU_DAY    -0.003308       0.006696  ...         -0.006059   \n",
              "AMT_REQ_CREDIT_BUREAU_WEEK   -0.004626      -0.011163  ...         -0.002803   \n",
              "AMT_REQ_CREDIT_BUREAU_MON     0.005989      -0.035277  ...          0.009069   \n",
              "AMT_REQ_CREDIT_BUREAU_QRT    -0.008783       0.014944  ...         -0.009249   \n",
              "AMT_REQ_CREDIT_BUREAU_YEAR   -0.072169       0.046217  ...         -0.039522   \n",
              "\n",
              "                            FLAG_DOCUMENT_19  FLAG_DOCUMENT_20  \\\n",
              "SK_ID_CURR                          0.009607          0.004955   \n",
              "TARGET                             -0.000161         -0.000161   \n",
              "CNT_CHILDREN                       -0.006352          0.004218   \n",
              "AMT_INCOME_TOTAL                   -0.000507         -0.000566   \n",
              "AMT_CREDIT                          0.019486          0.029165   \n",
              "...                                      ...               ...   \n",
              "AMT_REQ_CREDIT_BUREAU_DAY          -0.001640         -0.001783   \n",
              "AMT_REQ_CREDIT_BUREAU_WEEK         -0.004064          0.016177   \n",
              "AMT_REQ_CREDIT_BUREAU_MON           0.002313          0.000947   \n",
              "AMT_REQ_CREDIT_BUREAU_QRT           0.003931         -0.001453   \n",
              "AMT_REQ_CREDIT_BUREAU_YEAR         -0.017581         -0.013766   \n",
              "\n",
              "                            FLAG_DOCUMENT_21  AMT_REQ_CREDIT_BUREAU_HOUR  \\\n",
              "SK_ID_CURR                          0.006262                   -0.000096   \n",
              "TARGET                             -0.006328                    0.008285   \n",
              "CNT_CHILDREN                        0.002541                   -0.001190   \n",
              "AMT_INCOME_TOTAL                   -0.000774                    0.000674   \n",
              "AMT_CREDIT                         -0.016171                   -0.002437   \n",
              "...                                      ...                         ...   \n",
              "AMT_REQ_CREDIT_BUREAU_DAY          -0.001399                    0.194548   \n",
              "AMT_REQ_CREDIT_BUREAU_WEEK          0.009660                    0.020007   \n",
              "AMT_REQ_CREDIT_BUREAU_MON          -0.003273                    0.004680   \n",
              "AMT_REQ_CREDIT_BUREAU_QRT           0.003736                    0.007497   \n",
              "AMT_REQ_CREDIT_BUREAU_YEAR         -0.008554                    0.000155   \n",
              "\n",
              "                            AMT_REQ_CREDIT_BUREAU_DAY  \\\n",
              "SK_ID_CURR                                  -0.002539   \n",
              "TARGET                                       0.019336   \n",
              "CNT_CHILDREN                                -0.013674   \n",
              "AMT_INCOME_TOTAL                             0.001936   \n",
              "AMT_CREDIT                                   0.019199   \n",
              "...                                               ...   \n",
              "AMT_REQ_CREDIT_BUREAU_DAY                    1.000000   \n",
              "AMT_REQ_CREDIT_BUREAU_WEEK                   0.316236   \n",
              "AMT_REQ_CREDIT_BUREAU_MON                   -0.010633   \n",
              "AMT_REQ_CREDIT_BUREAU_QRT                    0.000489   \n",
              "AMT_REQ_CREDIT_BUREAU_YEAR                   0.009204   \n",
              "\n",
              "                            AMT_REQ_CREDIT_BUREAU_WEEK  \\\n",
              "SK_ID_CURR                                   -0.002697   \n",
              "TARGET                                        0.011209   \n",
              "CNT_CHILDREN                                  0.001830   \n",
              "AMT_INCOME_TOTAL                              0.000956   \n",
              "AMT_CREDIT                                    0.016347   \n",
              "...                                                ...   \n",
              "AMT_REQ_CREDIT_BUREAU_DAY                     0.316236   \n",
              "AMT_REQ_CREDIT_BUREAU_WEEK                    1.000000   \n",
              "AMT_REQ_CREDIT_BUREAU_MON                    -0.020501   \n",
              "AMT_REQ_CREDIT_BUREAU_QRT                    -0.018781   \n",
              "AMT_REQ_CREDIT_BUREAU_YEAR                    0.018649   \n",
              "\n",
              "                            AMT_REQ_CREDIT_BUREAU_MON  \\\n",
              "SK_ID_CURR                                   0.002039   \n",
              "TARGET                                      -0.016842   \n",
              "CNT_CHILDREN                                -0.019433   \n",
              "AMT_INCOME_TOTAL                             0.006805   \n",
              "AMT_CREDIT                                   0.057614   \n",
              "...                                               ...   \n",
              "AMT_REQ_CREDIT_BUREAU_DAY                   -0.010633   \n",
              "AMT_REQ_CREDIT_BUREAU_WEEK                  -0.020501   \n",
              "AMT_REQ_CREDIT_BUREAU_MON                    1.000000   \n",
              "AMT_REQ_CREDIT_BUREAU_QRT                   -0.014844   \n",
              "AMT_REQ_CREDIT_BUREAU_YEAR                  -0.008212   \n",
              "\n",
              "                            AMT_REQ_CREDIT_BUREAU_QRT  \\\n",
              "SK_ID_CURR                                  -0.007166   \n",
              "TARGET                                       0.005734   \n",
              "CNT_CHILDREN                                -0.012815   \n",
              "AMT_INCOME_TOTAL                            -0.002432   \n",
              "AMT_CREDIT                                   0.012247   \n",
              "...                                               ...   \n",
              "AMT_REQ_CREDIT_BUREAU_DAY                    0.000489   \n",
              "AMT_REQ_CREDIT_BUREAU_WEEK                  -0.018781   \n",
              "AMT_REQ_CREDIT_BUREAU_MON                   -0.014844   \n",
              "AMT_REQ_CREDIT_BUREAU_QRT                    1.000000   \n",
              "AMT_REQ_CREDIT_BUREAU_YEAR                   0.090683   \n",
              "\n",
              "                            AMT_REQ_CREDIT_BUREAU_YEAR  \n",
              "SK_ID_CURR                                    0.009536  \n",
              "TARGET                                        0.028681  \n",
              "CNT_CHILDREN                                 -0.036128  \n",
              "AMT_INCOME_TOTAL                             -0.000995  \n",
              "AMT_CREDIT                                   -0.033763  \n",
              "...                                                ...  \n",
              "AMT_REQ_CREDIT_BUREAU_DAY                     0.009204  \n",
              "AMT_REQ_CREDIT_BUREAU_WEEK                    0.018649  \n",
              "AMT_REQ_CREDIT_BUREAU_MON                    -0.008212  \n",
              "AMT_REQ_CREDIT_BUREAU_QRT                     0.090683  \n",
              "AMT_REQ_CREDIT_BUREAU_YEAR                    1.000000  \n",
              "\n",
              "[106 rows x 106 columns]"
            ],
            "text/html": [
              "\n",
              "  <div id=\"df-a1698182-678e-4fcd-a54a-e31df216ac13\">\n",
              "    <div class=\"colab-df-container\">\n",
              "      <div>\n",
              "<style scoped>\n",
              "    .dataframe tbody tr th:only-of-type {\n",
              "        vertical-align: middle;\n",
              "    }\n",
              "\n",
              "    .dataframe tbody tr th {\n",
              "        vertical-align: top;\n",
              "    }\n",
              "\n",
              "    .dataframe thead th {\n",
              "        text-align: right;\n",
              "    }\n",
              "</style>\n",
              "<table border=\"1\" class=\"dataframe\">\n",
              "  <thead>\n",
              "    <tr style=\"text-align: right;\">\n",
              "      <th></th>\n",
              "      <th>SK_ID_CURR</th>\n",
              "      <th>TARGET</th>\n",
              "      <th>CNT_CHILDREN</th>\n",
              "      <th>AMT_INCOME_TOTAL</th>\n",
              "      <th>AMT_CREDIT</th>\n",
              "      <th>AMT_ANNUITY</th>\n",
              "      <th>AMT_GOODS_PRICE</th>\n",
              "      <th>REGION_POPULATION_RELATIVE</th>\n",
              "      <th>DAYS_BIRTH</th>\n",
              "      <th>DAYS_EMPLOYED</th>\n",
              "      <th>...</th>\n",
              "      <th>FLAG_DOCUMENT_18</th>\n",
              "      <th>FLAG_DOCUMENT_19</th>\n",
              "      <th>FLAG_DOCUMENT_20</th>\n",
              "      <th>FLAG_DOCUMENT_21</th>\n",
              "      <th>AMT_REQ_CREDIT_BUREAU_HOUR</th>\n",
              "      <th>AMT_REQ_CREDIT_BUREAU_DAY</th>\n",
              "      <th>AMT_REQ_CREDIT_BUREAU_WEEK</th>\n",
              "      <th>AMT_REQ_CREDIT_BUREAU_MON</th>\n",
              "      <th>AMT_REQ_CREDIT_BUREAU_QRT</th>\n",
              "      <th>AMT_REQ_CREDIT_BUREAU_YEAR</th>\n",
              "    </tr>\n",
              "  </thead>\n",
              "  <tbody>\n",
              "    <tr>\n",
              "      <th>SK_ID_CURR</th>\n",
              "      <td>1.000000</td>\n",
              "      <td>0.004667</td>\n",
              "      <td>-0.003233</td>\n",
              "      <td>0.003050</td>\n",
              "      <td>-0.004999</td>\n",
              "      <td>-0.000464</td>\n",
              "      <td>-0.005352</td>\n",
              "      <td>-0.012007</td>\n",
              "      <td>0.001763</td>\n",
              "      <td>0.000890</td>\n",
              "      <td>...</td>\n",
              "      <td>0.003610</td>\n",
              "      <td>0.009607</td>\n",
              "      <td>0.004955</td>\n",
              "      <td>0.006262</td>\n",
              "      <td>-0.000096</td>\n",
              "      <td>-0.002539</td>\n",
              "      <td>-0.002697</td>\n",
              "      <td>0.002039</td>\n",
              "      <td>-0.007166</td>\n",
              "      <td>0.009536</td>\n",
              "    </tr>\n",
              "    <tr>\n",
              "      <th>TARGET</th>\n",
              "      <td>0.004667</td>\n",
              "      <td>1.000000</td>\n",
              "      <td>0.034417</td>\n",
              "      <td>0.021384</td>\n",
              "      <td>-0.029590</td>\n",
              "      <td>-0.001275</td>\n",
              "      <td>-0.036187</td>\n",
              "      <td>-0.034141</td>\n",
              "      <td>0.086518</td>\n",
              "      <td>-0.042951</td>\n",
              "      <td>...</td>\n",
              "      <td>-0.003940</td>\n",
              "      <td>-0.000161</td>\n",
              "      <td>-0.000161</td>\n",
              "      <td>-0.006328</td>\n",
              "      <td>0.008285</td>\n",
              "      <td>0.019336</td>\n",
              "      <td>0.011209</td>\n",
              "      <td>-0.016842</td>\n",
              "      <td>0.005734</td>\n",
              "      <td>0.028681</td>\n",
              "    </tr>\n",
              "    <tr>\n",
              "      <th>CNT_CHILDREN</th>\n",
              "      <td>-0.003233</td>\n",
              "      <td>0.034417</td>\n",
              "      <td>1.000000</td>\n",
              "      <td>0.009897</td>\n",
              "      <td>0.003961</td>\n",
              "      <td>0.028293</td>\n",
              "      <td>-0.000650</td>\n",
              "      <td>-0.021682</td>\n",
              "      <td>0.331149</td>\n",
              "      <td>-0.239758</td>\n",
              "      <td>...</td>\n",
              "      <td>0.002542</td>\n",
              "      <td>-0.006352</td>\n",
              "      <td>0.004218</td>\n",
              "      <td>0.002541</td>\n",
              "      <td>-0.001190</td>\n",
              "      <td>-0.013674</td>\n",
              "      <td>0.001830</td>\n",
              "      <td>-0.019433</td>\n",
              "      <td>-0.012815</td>\n",
              "      <td>-0.036128</td>\n",
              "    </tr>\n",
              "    <tr>\n",
              "      <th>AMT_INCOME_TOTAL</th>\n",
              "      <td>0.003050</td>\n",
              "      <td>0.021384</td>\n",
              "      <td>0.009897</td>\n",
              "      <td>1.000000</td>\n",
              "      <td>0.045780</td>\n",
              "      <td>0.054884</td>\n",
              "      <td>0.045633</td>\n",
              "      <td>0.017816</td>\n",
              "      <td>0.012838</td>\n",
              "      <td>-0.021990</td>\n",
              "      <td>...</td>\n",
              "      <td>-0.000565</td>\n",
              "      <td>-0.000507</td>\n",
              "      <td>-0.000566</td>\n",
              "      <td>-0.000774</td>\n",
              "      <td>0.000674</td>\n",
              "      <td>0.001936</td>\n",
              "      <td>0.000956</td>\n",
              "      <td>0.006805</td>\n",
              "      <td>-0.002432</td>\n",
              "      <td>-0.000995</td>\n",
              "    </tr>\n",
              "    <tr>\n",
              "      <th>AMT_CREDIT</th>\n",
              "      <td>-0.004999</td>\n",
              "      <td>-0.029590</td>\n",
              "      <td>0.003961</td>\n",
              "      <td>0.045780</td>\n",
              "      <td>1.000000</td>\n",
              "      <td>0.777308</td>\n",
              "      <td>0.986837</td>\n",
              "      <td>0.099437</td>\n",
              "      <td>-0.068481</td>\n",
              "      <td>-0.066455</td>\n",
              "      <td>...</td>\n",
              "      <td>0.022245</td>\n",
              "      <td>0.019486</td>\n",
              "      <td>0.029165</td>\n",
              "      <td>-0.016171</td>\n",
              "      <td>-0.002437</td>\n",
              "      <td>0.019199</td>\n",
              "      <td>0.016347</td>\n",
              "      <td>0.057614</td>\n",
              "      <td>0.012247</td>\n",
              "      <td>-0.033763</td>\n",
              "    </tr>\n",
              "    <tr>\n",
              "      <th>...</th>\n",
              "      <td>...</td>\n",
              "      <td>...</td>\n",
              "      <td>...</td>\n",
              "      <td>...</td>\n",
              "      <td>...</td>\n",
              "      <td>...</td>\n",
              "      <td>...</td>\n",
              "      <td>...</td>\n",
              "      <td>...</td>\n",
              "      <td>...</td>\n",
              "      <td>...</td>\n",
              "      <td>...</td>\n",
              "      <td>...</td>\n",
              "      <td>...</td>\n",
              "      <td>...</td>\n",
              "      <td>...</td>\n",
              "      <td>...</td>\n",
              "      <td>...</td>\n",
              "      <td>...</td>\n",
              "      <td>...</td>\n",
              "      <td>...</td>\n",
              "    </tr>\n",
              "    <tr>\n",
              "      <th>AMT_REQ_CREDIT_BUREAU_DAY</th>\n",
              "      <td>-0.002539</td>\n",
              "      <td>0.019336</td>\n",
              "      <td>-0.013674</td>\n",
              "      <td>0.001936</td>\n",
              "      <td>0.019199</td>\n",
              "      <td>0.015806</td>\n",
              "      <td>0.018530</td>\n",
              "      <td>0.011065</td>\n",
              "      <td>-0.003308</td>\n",
              "      <td>0.006696</td>\n",
              "      <td>...</td>\n",
              "      <td>-0.006059</td>\n",
              "      <td>-0.001640</td>\n",
              "      <td>-0.001783</td>\n",
              "      <td>-0.001399</td>\n",
              "      <td>0.194548</td>\n",
              "      <td>1.000000</td>\n",
              "      <td>0.316236</td>\n",
              "      <td>-0.010633</td>\n",
              "      <td>0.000489</td>\n",
              "      <td>0.009204</td>\n",
              "    </tr>\n",
              "    <tr>\n",
              "      <th>AMT_REQ_CREDIT_BUREAU_WEEK</th>\n",
              "      <td>-0.002697</td>\n",
              "      <td>0.011209</td>\n",
              "      <td>0.001830</td>\n",
              "      <td>0.000956</td>\n",
              "      <td>0.016347</td>\n",
              "      <td>0.030374</td>\n",
              "      <td>0.017439</td>\n",
              "      <td>0.011645</td>\n",
              "      <td>-0.004626</td>\n",
              "      <td>-0.011163</td>\n",
              "      <td>...</td>\n",
              "      <td>-0.002803</td>\n",
              "      <td>-0.004064</td>\n",
              "      <td>0.016177</td>\n",
              "      <td>0.009660</td>\n",
              "      <td>0.020007</td>\n",
              "      <td>0.316236</td>\n",
              "      <td>1.000000</td>\n",
              "      <td>-0.020501</td>\n",
              "      <td>-0.018781</td>\n",
              "      <td>0.018649</td>\n",
              "    </tr>\n",
              "    <tr>\n",
              "      <th>AMT_REQ_CREDIT_BUREAU_MON</th>\n",
              "      <td>0.002039</td>\n",
              "      <td>-0.016842</td>\n",
              "      <td>-0.019433</td>\n",
              "      <td>0.006805</td>\n",
              "      <td>0.057614</td>\n",
              "      <td>0.033482</td>\n",
              "      <td>0.058419</td>\n",
              "      <td>0.088110</td>\n",
              "      <td>0.005989</td>\n",
              "      <td>-0.035277</td>\n",
              "      <td>...</td>\n",
              "      <td>0.009069</td>\n",
              "      <td>0.002313</td>\n",
              "      <td>0.000947</td>\n",
              "      <td>-0.003273</td>\n",
              "      <td>0.004680</td>\n",
              "      <td>-0.010633</td>\n",
              "      <td>-0.020501</td>\n",
              "      <td>1.000000</td>\n",
              "      <td>-0.014844</td>\n",
              "      <td>-0.008212</td>\n",
              "    </tr>\n",
              "    <tr>\n",
              "      <th>AMT_REQ_CREDIT_BUREAU_QRT</th>\n",
              "      <td>-0.007166</td>\n",
              "      <td>0.005734</td>\n",
              "      <td>-0.012815</td>\n",
              "      <td>-0.002432</td>\n",
              "      <td>0.012247</td>\n",
              "      <td>0.004329</td>\n",
              "      <td>0.012341</td>\n",
              "      <td>-0.005047</td>\n",
              "      <td>-0.008783</td>\n",
              "      <td>0.014944</td>\n",
              "      <td>...</td>\n",
              "      <td>-0.009249</td>\n",
              "      <td>0.003931</td>\n",
              "      <td>-0.001453</td>\n",
              "      <td>0.003736</td>\n",
              "      <td>0.007497</td>\n",
              "      <td>0.000489</td>\n",
              "      <td>-0.018781</td>\n",
              "      <td>-0.014844</td>\n",
              "      <td>1.000000</td>\n",
              "      <td>0.090683</td>\n",
              "    </tr>\n",
              "    <tr>\n",
              "      <th>AMT_REQ_CREDIT_BUREAU_YEAR</th>\n",
              "      <td>0.009536</td>\n",
              "      <td>0.028681</td>\n",
              "      <td>-0.036128</td>\n",
              "      <td>-0.000995</td>\n",
              "      <td>-0.033763</td>\n",
              "      <td>-0.001659</td>\n",
              "      <td>-0.037386</td>\n",
              "      <td>0.004042</td>\n",
              "      <td>-0.072169</td>\n",
              "      <td>0.046217</td>\n",
              "      <td>...</td>\n",
              "      <td>-0.039522</td>\n",
              "      <td>-0.017581</td>\n",
              "      <td>-0.013766</td>\n",
              "      <td>-0.008554</td>\n",
              "      <td>0.000155</td>\n",
              "      <td>0.009204</td>\n",
              "      <td>0.018649</td>\n",
              "      <td>-0.008212</td>\n",
              "      <td>0.090683</td>\n",
              "      <td>1.000000</td>\n",
              "    </tr>\n",
              "  </tbody>\n",
              "</table>\n",
              "<p>106 rows × 106 columns</p>\n",
              "</div>\n",
              "      <button class=\"colab-df-convert\" onclick=\"convertToInteractive('df-a1698182-678e-4fcd-a54a-e31df216ac13')\"\n",
              "              title=\"Convert this dataframe to an interactive table.\"\n",
              "              style=\"display:none;\">\n",
              "        \n",
              "  <svg xmlns=\"http://www.w3.org/2000/svg\" height=\"24px\"viewBox=\"0 0 24 24\"\n",
              "       width=\"24px\">\n",
              "    <path d=\"M0 0h24v24H0V0z\" fill=\"none\"/>\n",
              "    <path d=\"M18.56 5.44l.94 2.06.94-2.06 2.06-.94-2.06-.94-.94-2.06-.94 2.06-2.06.94zm-11 1L8.5 8.5l.94-2.06 2.06-.94-2.06-.94L8.5 2.5l-.94 2.06-2.06.94zm10 10l.94 2.06.94-2.06 2.06-.94-2.06-.94-.94-2.06-.94 2.06-2.06.94z\"/><path d=\"M17.41 7.96l-1.37-1.37c-.4-.4-.92-.59-1.43-.59-.52 0-1.04.2-1.43.59L10.3 9.45l-7.72 7.72c-.78.78-.78 2.05 0 2.83L4 21.41c.39.39.9.59 1.41.59.51 0 1.02-.2 1.41-.59l7.78-7.78 2.81-2.81c.8-.78.8-2.07 0-2.86zM5.41 20L4 18.59l7.72-7.72 1.47 1.35L5.41 20z\"/>\n",
              "  </svg>\n",
              "      </button>\n",
              "      \n",
              "  <style>\n",
              "    .colab-df-container {\n",
              "      display:flex;\n",
              "      flex-wrap:wrap;\n",
              "      gap: 12px;\n",
              "    }\n",
              "\n",
              "    .colab-df-convert {\n",
              "      background-color: #E8F0FE;\n",
              "      border: none;\n",
              "      border-radius: 50%;\n",
              "      cursor: pointer;\n",
              "      display: none;\n",
              "      fill: #1967D2;\n",
              "      height: 32px;\n",
              "      padding: 0 0 0 0;\n",
              "      width: 32px;\n",
              "    }\n",
              "\n",
              "    .colab-df-convert:hover {\n",
              "      background-color: #E2EBFA;\n",
              "      box-shadow: 0px 1px 2px rgba(60, 64, 67, 0.3), 0px 1px 3px 1px rgba(60, 64, 67, 0.15);\n",
              "      fill: #174EA6;\n",
              "    }\n",
              "\n",
              "    [theme=dark] .colab-df-convert {\n",
              "      background-color: #3B4455;\n",
              "      fill: #D2E3FC;\n",
              "    }\n",
              "\n",
              "    [theme=dark] .colab-df-convert:hover {\n",
              "      background-color: #434B5C;\n",
              "      box-shadow: 0px 1px 3px 1px rgba(0, 0, 0, 0.15);\n",
              "      filter: drop-shadow(0px 1px 2px rgba(0, 0, 0, 0.3));\n",
              "      fill: #FFFFFF;\n",
              "    }\n",
              "  </style>\n",
              "\n",
              "      <script>\n",
              "        const buttonEl =\n",
              "          document.querySelector('#df-a1698182-678e-4fcd-a54a-e31df216ac13 button.colab-df-convert');\n",
              "        buttonEl.style.display =\n",
              "          google.colab.kernel.accessAllowed ? 'block' : 'none';\n",
              "\n",
              "        async function convertToInteractive(key) {\n",
              "          const element = document.querySelector('#df-a1698182-678e-4fcd-a54a-e31df216ac13');\n",
              "          const dataTable =\n",
              "            await google.colab.kernel.invokeFunction('convertToInteractive',\n",
              "                                                     [key], {});\n",
              "          if (!dataTable) return;\n",
              "\n",
              "          const docLinkHtml = 'Like what you see? Visit the ' +\n",
              "            '<a target=\"_blank\" href=https://colab.research.google.com/notebooks/data_table.ipynb>data table notebook</a>'\n",
              "            + ' to learn more about interactive tables.';\n",
              "          element.innerHTML = '';\n",
              "          dataTable['output_type'] = 'display_data';\n",
              "          await google.colab.output.renderOutput(dataTable, element);\n",
              "          const docLink = document.createElement('div');\n",
              "          docLink.innerHTML = docLinkHtml;\n",
              "          element.appendChild(docLink);\n",
              "        }\n",
              "      </script>\n",
              "    </div>\n",
              "  </div>\n",
              "  "
            ]
          },
          "metadata": {},
          "execution_count": 11
        }
      ]
    },
    {
      "cell_type": "code",
      "source": [
        "cor = df.corr()['TARGET'].abs().nlargest(13)\n",
        "\n",
        "top_features = corr_df.index\n",
        "plt.figure(figsize=(20,20))\n",
        "pal = sns.diverging_palette(128, 240, 8)\n",
        "sns.heatmap(df[cor.index].corr(), vmax=0.8, annot=True, cmap=pal)\n",
        "plt.show()"
      ],
      "metadata": {
        "colab": {
          "base_uri": "https://localhost:8080/",
          "height": 1000
        },
        "id": "5GDakjWkg8Ro",
        "outputId": "5ebfc2c3-62bc-4d27-fb81-6c1750fe4cc8"
      },
      "execution_count": 14,
      "outputs": [
        {
          "output_type": "display_data",
          "data": {
            "text/plain": [
              "<Figure size 1440x1440 with 2 Axes>"
            ],
            "image/png": "[encoded data removed]"
          },
          "metadata": {
            "needs_background": "light"
          }
        }
      ]
    },
    {
      "cell_type": "code",
      "source": [
        "sns.distplot(df[\"AMT_CREDIT\"])"
      ],
      "metadata": {
        "colab": {
          "base_uri": "https://localhost:8080/",
          "height": 363
        },
        "id": "iUjsXyQ-hOl_",
        "outputId": "776d7b45-daeb-4599-f81a-3820f7bea37b"
      },
      "execution_count": 15,
      "outputs": [
        {
          "output_type": "stream",
          "name": "stderr",
          "text": [
            "/usr/local/lib/python3.7/dist-packages/seaborn/distributions.py:2619: FutureWarning: `distplot` is a deprecated function and will be removed in a future version. Please adapt your code to use either `displot` (a figure-level function with similar flexibility) or `histplot` (an axes-level function for histograms).\n",
            "  warnings.warn(msg, FutureWarning)\n"
          ]
        },
        {
          "output_type": "execute_result",
          "data": {
            "text/plain": [
              "<matplotlib.axes._subplots.AxesSubplot at 0x7f6b9adfef50>"
            ]
          },
          "metadata": {},
          "execution_count": 15
        },
        {
          "output_type": "display_data",
          "data": {
            "text/plain": [
              "<Figure size 432x288 with 1 Axes>"
            ],
            "image/png": "[encoded data removed]"
          },
          "metadata": {
            "needs_background": "light"
          }
        }
      ]
    },
    {
      "cell_type": "code",
      "source": [
        "sns.distplot(df[\"AMT_GOODS_PRICE\"])"
      ],
      "metadata": {
        "colab": {
          "base_uri": "https://localhost:8080/",
          "height": 363
        },
        "id": "-kNbJYshhVZQ",
        "outputId": "eff15cc2-0c76-4bb2-b4fa-bba1bc3f58b9"
      },
      "execution_count": 16,
      "outputs": [
        {
          "output_type": "stream",
          "name": "stderr",
          "text": [
            "/usr/local/lib/python3.7/dist-packages/seaborn/distributions.py:2619: FutureWarning: `distplot` is a deprecated function and will be removed in a future version. Please adapt your code to use either `displot` (a figure-level function with similar flexibility) or `histplot` (an axes-level function for histograms).\n",
            "  warnings.warn(msg, FutureWarning)\n"
          ]
        },
        {
          "output_type": "execute_result",
          "data": {
            "text/plain": [
              "<matplotlib.axes._subplots.AxesSubplot at 0x7f6b9ada0c50>"
            ]
          },
          "metadata": {},
          "execution_count": 16
        },
        {
          "output_type": "display_data",
          "data": {
            "text/plain": [
              "<Figure size 432x288 with 1 Axes>"
            ],
            "image/png": "[encoded data removed]"
          },
          "metadata": {
            "needs_background": "light"
          }
        }
      ]
    },
    {
      "cell_type": "code",
      "source": [
        "sns.distplot(df[\"AMT_INCOME_TOTAL\"])"
      ],
      "metadata": {
        "colab": {
          "base_uri": "https://localhost:8080/",
          "height": 363
        },
        "id": "EcCK04MHhYl-",
        "outputId": "b01e3869-1a61-4c5d-aadf-f246fbbd2ca2"
      },
      "execution_count": 17,
      "outputs": [
        {
          "output_type": "stream",
          "name": "stderr",
          "text": [
            "/usr/local/lib/python3.7/dist-packages/seaborn/distributions.py:2619: FutureWarning: `distplot` is a deprecated function and will be removed in a future version. Please adapt your code to use either `displot` (a figure-level function with similar flexibility) or `histplot` (an axes-level function for histograms).\n",
            "  warnings.warn(msg, FutureWarning)\n"
          ]
        },
        {
          "output_type": "execute_result",
          "data": {
            "text/plain": [
              "<matplotlib.axes._subplots.AxesSubplot at 0x7f6b98b8ed90>"
            ]
          },
          "metadata": {},
          "execution_count": 17
        },
        {
          "output_type": "display_data",
          "data": {
            "text/plain": [
              "<Figure size 432x288 with 1 Axes>"
            ],
            "image/png": "[encoded data removed]"
          },
          "metadata": {
            "needs_background": "light"
          }
        }
      ]
    },
    {
      "cell_type": "code",
      "source": [
        "df[\"AMT_INCOME_TOTAL\"].sort_values(ascending=False).head(10)"
      ],
      "metadata": {
        "colab": {
          "base_uri": "https://localhost:8080/"
        },
        "id": "7XDR_nqHhbw8",
        "outputId": "f79b2492-9c0e-45bf-88e3-2bdf65734285"
      },
      "execution_count": 18,
      "outputs": [
        {
          "output_type": "execute_result",
          "data": {
            "text/plain": [
              "12840    117000000.0\n",
              "20216      3825000.0\n",
              "10222      2250000.0\n",
              "1723       1935000.0\n",
              "17721      1800000.0\n",
              "4603       1350000.0\n",
              "3371       1350000.0\n",
              "8314       1350000.0\n",
              "11068      1350000.0\n",
              "19665      1350000.0\n",
              "Name: AMT_INCOME_TOTAL, dtype: float64"
            ]
          },
          "metadata": {},
          "execution_count": 18
        }
      ]
    },
    {
      "cell_type": "code",
      "source": [
        "df.iloc[12840].head(20)"
      ],
      "metadata": {
        "colab": {
          "base_uri": "https://localhost:8080/"
        },
        "id": "ygexUKFRheCQ",
        "outputId": "55627e89-37be-42ec-fc50-17ef8c46e327"
      },
      "execution_count": 19,
      "outputs": [
        {
          "output_type": "execute_result",
          "data": {
            "text/plain": [
              "SK_ID_CURR                                           114967\n",
              "TARGET                                                    1\n",
              "NAME_CONTRACT_TYPE                               Cash loans\n",
              "CODE_GENDER                                               F\n",
              "FLAG_OWN_CAR                                              N\n",
              "FLAG_OWN_REALTY                                           Y\n",
              "CNT_CHILDREN                                              1\n",
              "AMT_INCOME_TOTAL                                117000000.0\n",
              "AMT_CREDIT                                         562491.0\n",
              "AMT_ANNUITY                                         26194.5\n",
              "AMT_GOODS_PRICE                                    454500.0\n",
              "NAME_TYPE_SUITE                               Unaccompanied\n",
              "NAME_INCOME_TYPE                                    Working\n",
              "NAME_EDUCATION_TYPE           Secondary / secondary special\n",
              "NAME_FAMILY_STATUS                                  Married\n",
              "NAME_HOUSING_TYPE                         House / apartment\n",
              "REGION_POPULATION_RELATIVE                         0.010643\n",
              "DAYS_BIRTH                                           -12615\n",
              "DAYS_EMPLOYED                                          -922\n",
              "DAYS_REGISTRATION                                   -6762.0\n",
              "Name: 12840, dtype: object"
            ]
          },
          "metadata": {},
          "execution_count": 19
        }
      ]
    },
    {
      "cell_type": "code",
      "source": [
        "df = df.drop(df.index[12840])\n",
        "df[\"AMT_INCOME_TOTAL\"].sort_values(ascending=False).head(10)"
      ],
      "metadata": {
        "colab": {
          "base_uri": "https://localhost:8080/"
        },
        "id": "G9VqAWJRhh3V",
        "outputId": "5fa42a2e-1c46-4d3d-fba6-705fea109652"
      },
      "execution_count": 20,
      "outputs": [
        {
          "output_type": "execute_result",
          "data": {
            "text/plain": [
              "20216    3825000.0\n",
              "10222    2250000.0\n",
              "1723     1935000.0\n",
              "17721    1800000.0\n",
              "11068    1350000.0\n",
              "19665    1350000.0\n",
              "8314     1350000.0\n",
              "4603     1350000.0\n",
              "3371     1350000.0\n",
              "19995    1125000.0\n",
              "Name: AMT_INCOME_TOTAL, dtype: float64"
            ]
          },
          "metadata": {},
          "execution_count": 20
        }
      ]
    },
    {
      "cell_type": "code",
      "source": [
        "sns.distplot(df[\"AMT_INCOME_TOTAL\"])"
      ],
      "metadata": {
        "colab": {
          "base_uri": "https://localhost:8080/",
          "height": 363
        },
        "id": "zOdQ-2L0hmSV",
        "outputId": "09a57303-16cd-43bf-a625-253619bd9995"
      },
      "execution_count": 21,
      "outputs": [
        {
          "output_type": "stream",
          "name": "stderr",
          "text": [
            "/usr/local/lib/python3.7/dist-packages/seaborn/distributions.py:2619: FutureWarning: `distplot` is a deprecated function and will be removed in a future version. Please adapt your code to use either `displot` (a figure-level function with similar flexibility) or `histplot` (an axes-level function for histograms).\n",
            "  warnings.warn(msg, FutureWarning)\n"
          ]
        },
        {
          "output_type": "execute_result",
          "data": {
            "text/plain": [
              "<matplotlib.axes._subplots.AxesSubplot at 0x7f6ba1a1f510>"
            ]
          },
          "metadata": {},
          "execution_count": 21
        },
        {
          "output_type": "display_data",
          "data": {
            "text/plain": [
              "<Figure size 432x288 with 1 Axes>"
            ],
            "image/png": "[encoded data removed]"
          },
          "metadata": {
            "needs_background": "light"
          }
        }
      ]
    },
    {
      "cell_type": "code",
      "source": [
        "sns.jointplot(df[\"AMT_INCOME_TOTAL\"],df[\"AMT_CREDIT\"])"
      ],
      "metadata": {
        "colab": {
          "base_uri": "https://localhost:8080/",
          "height": 513
        },
        "id": "932DkJ_Dhpu0",
        "outputId": "48b94c05-fdea-49e2-89ca-a3136291edad"
      },
      "execution_count": 22,
      "outputs": [
        {
          "output_type": "stream",
          "name": "stderr",
          "text": [
            "/usr/local/lib/python3.7/dist-packages/seaborn/_decorators.py:43: FutureWarning: Pass the following variables as keyword args: x, y. From version 0.12, the only valid positional argument will be `data`, and passing other arguments without an explicit keyword will result in an error or misinterpretation.\n",
            "  FutureWarning\n"
          ]
        },
        {
          "output_type": "execute_result",
          "data": {
            "text/plain": [
              "<seaborn.axisgrid.JointGrid at 0x7f6b98a91790>"
            ]
          },
          "metadata": {},
          "execution_count": 22
        },
        {
          "output_type": "display_data",
          "data": {
            "text/plain": [
              "<Figure size 432x432 with 3 Axes>"
            ],
            "image/png": "[encoded data removed]"
          },
          "metadata": {
            "needs_background": "light"
          }
        }
      ]
    },
    {
      "cell_type": "code",
      "source": [
        "df[\"NAME_CONTRACT_TYPE\"].head()"
      ],
      "metadata": {
        "colab": {
          "base_uri": "https://localhost:8080/"
        },
        "id": "hMZomt2ohuUM",
        "outputId": "cae12d43-7d4a-4a96-85fe-41216115eb79"
      },
      "execution_count": 23,
      "outputs": [
        {
          "output_type": "execute_result",
          "data": {
            "text/plain": [
              "0         Cash loans\n",
              "1         Cash loans\n",
              "2    Revolving loans\n",
              "3         Cash loans\n",
              "4         Cash loans\n",
              "Name: NAME_CONTRACT_TYPE, dtype: object"
            ]
          },
          "metadata": {},
          "execution_count": 23
        }
      ]
    },
    {
      "cell_type": "code",
      "source": [
        "sns.countplot(df[\"NAME_CONTRACT_TYPE\"])"
      ],
      "metadata": {
        "colab": {
          "base_uri": "https://localhost:8080/",
          "height": 354
        },
        "id": "E8WCkmqAhwtg",
        "outputId": "845f5308-d1ee-4cb6-8900-ca63a33a652e"
      },
      "execution_count": 24,
      "outputs": [
        {
          "output_type": "stream",
          "name": "stderr",
          "text": [
            "/usr/local/lib/python3.7/dist-packages/seaborn/_decorators.py:43: FutureWarning: Pass the following variable as a keyword arg: x. From version 0.12, the only valid positional argument will be `data`, and passing other arguments without an explicit keyword will result in an error or misinterpretation.\n",
            "  FutureWarning\n"
          ]
        },
        {
          "output_type": "execute_result",
          "data": {
            "text/plain": [
              "<matplotlib.axes._subplots.AxesSubplot at 0x7f6b98578e50>"
            ]
          },
          "metadata": {},
          "execution_count": 24
        },
        {
          "output_type": "display_data",
          "data": {
            "text/plain": [
              "<Figure size 432x288 with 1 Axes>"
            ],
            "image/png": "[encoded data removed]"
          },
          "metadata": {
            "needs_background": "light"
          }
        }
      ]
    },
    {
      "cell_type": "code",
      "source": [
        "cash_revo = pd.crosstab(df['TARGET'], df['NAME_CONTRACT_TYPE'], normalize='index')\n",
        "cash_revo.plot.bar(stacked=True)"
      ],
      "metadata": {
        "colab": {
          "base_uri": "https://localhost:8080/",
          "height": 293
        },
        "id": "bX16MOwvh07L",
        "outputId": "609e7587-2a00-495a-aad9-c5bb996835e6"
      },
      "execution_count": 25,
      "outputs": [
        {
          "output_type": "execute_result",
          "data": {
            "text/plain": [
              "<matplotlib.axes._subplots.AxesSubplot at 0x7f6b9846fb50>"
            ]
          },
          "metadata": {},
          "execution_count": 25
        },
        {
          "output_type": "display_data",
          "data": {
            "text/plain": [
              "<Figure size 432x288 with 1 Axes>"
            ],
            "image/png": "[encoded data removed]"
          },
          "metadata": {
            "needs_background": "light"
          }
        }
      ]
    },
    {
      "cell_type": "code",
      "source": [
        "sex = pd.crosstab(df['TARGET'], df['CODE_GENDER'], normalize='index')\n",
        "sex.plot.bar(stacked=True)"
      ],
      "metadata": {
        "colab": {
          "base_uri": "https://localhost:8080/",
          "height": 293
        },
        "id": "Yje5vGSyh442",
        "outputId": "69856037-3890-43ae-ed6a-cb27bbd9cff9"
      },
      "execution_count": 26,
      "outputs": [
        {
          "output_type": "execute_result",
          "data": {
            "text/plain": [
              "<matplotlib.axes._subplots.AxesSubplot at 0x7f6b983ebdd0>"
            ]
          },
          "metadata": {},
          "execution_count": 26
        },
        {
          "output_type": "display_data",
          "data": {
            "text/plain": [
              "<Figure size 432x288 with 1 Axes>"
            ],
            "image/png": "[encoded data removed]"
          },
          "metadata": {
            "needs_background": "light"
          }
        }
      ]
    },
    {
      "cell_type": "code",
      "source": [
        "car = pd.crosstab(df['TARGET'], df['FLAG_OWN_CAR'], normalize='index')\n",
        "car.plot.bar(stacked=True)"
      ],
      "metadata": {
        "colab": {
          "base_uri": "https://localhost:8080/",
          "height": 293
        },
        "id": "hDAyGgYvh68Q",
        "outputId": "543b1a94-252c-4406-8f14-cc4b3fb3810e"
      },
      "execution_count": 27,
      "outputs": [
        {
          "output_type": "execute_result",
          "data": {
            "text/plain": [
              "<matplotlib.axes._subplots.AxesSubplot at 0x7f6b98725b90>"
            ]
          },
          "metadata": {},
          "execution_count": 27
        },
        {
          "output_type": "display_data",
          "data": {
            "text/plain": [
              "<Figure size 432x288 with 1 Axes>"
            ],
            "image/png": "[encoded data removed]"
          },
          "metadata": {
            "needs_background": "light"
          }
        }
      ]
    },
    {
      "cell_type": "code",
      "source": [
        "realty = pd.crosstab(df['TARGET'], df['FLAG_OWN_REALTY'], normalize='index')\n",
        "realty.plot.bar(stacked=True)"
      ],
      "metadata": {
        "colab": {
          "base_uri": "https://localhost:8080/",
          "height": 293
        },
        "id": "dGSlWCGBh9O3",
        "outputId": "fddba501-4503-4a06-df18-b819c63fdcc9"
      },
      "execution_count": 28,
      "outputs": [
        {
          "output_type": "execute_result",
          "data": {
            "text/plain": [
              "<matplotlib.axes._subplots.AxesSubplot at 0x7f6b987c3e10>"
            ]
          },
          "metadata": {},
          "execution_count": 28
        },
        {
          "output_type": "display_data",
          "data": {
            "text/plain": [
              "<Figure size 432x288 with 1 Axes>"
            ],
            "image/png": "[encoded data removed]"
          },
          "metadata": {
            "needs_background": "light"
          }
        }
      ]
    },
    {
      "cell_type": "code",
      "source": [
        "sns.countplot(df[\"NAME_FAMILY_STATUS\"])"
      ],
      "metadata": {
        "colab": {
          "base_uri": "https://localhost:8080/",
          "height": 352
        },
        "id": "ttriFEr9h_sS",
        "outputId": "344d92c4-cc07-4580-8309-302d6f22c97e"
      },
      "execution_count": 29,
      "outputs": [
        {
          "output_type": "stream",
          "name": "stderr",
          "text": [
            "/usr/local/lib/python3.7/dist-packages/seaborn/_decorators.py:43: FutureWarning: Pass the following variable as a keyword arg: x. From version 0.12, the only valid positional argument will be `data`, and passing other arguments without an explicit keyword will result in an error or misinterpretation.\n",
            "  FutureWarning\n"
          ]
        },
        {
          "output_type": "execute_result",
          "data": {
            "text/plain": [
              "<matplotlib.axes._subplots.AxesSubplot at 0x7f6b98568190>"
            ]
          },
          "metadata": {},
          "execution_count": 29
        },
        {
          "output_type": "display_data",
          "data": {
            "text/plain": [
              "<Figure size 432x288 with 1 Axes>"
            ],
            "image/png": "[encoded data removed]"
          },
          "metadata": {
            "needs_background": "light"
          }
        }
      ]
    },
    {
      "cell_type": "code",
      "source": [
        "sns.countplot(df[\"CNT_CHILDREN\"])"
      ],
      "metadata": {
        "colab": {
          "base_uri": "https://localhost:8080/",
          "height": 352
        },
        "id": "0LBybn7yiC5S",
        "outputId": "8f9d39ba-8150-42b6-92f5-f86ac92af4fc"
      },
      "execution_count": 30,
      "outputs": [
        {
          "output_type": "stream",
          "name": "stderr",
          "text": [
            "/usr/local/lib/python3.7/dist-packages/seaborn/_decorators.py:43: FutureWarning: Pass the following variable as a keyword arg: x. From version 0.12, the only valid positional argument will be `data`, and passing other arguments without an explicit keyword will result in an error or misinterpretation.\n",
            "  FutureWarning\n"
          ]
        },
        {
          "output_type": "execute_result",
          "data": {
            "text/plain": [
              "<matplotlib.axes._subplots.AxesSubplot at 0x7f6b9822d0d0>"
            ]
          },
          "metadata": {},
          "execution_count": 30
        },
        {
          "output_type": "display_data",
          "data": {
            "text/plain": [
              "<Figure size 432x288 with 1 Axes>"
            ],
            "image/png": "[encoded data removed]"
          },
          "metadata": {
            "needs_background": "light"
          }
        }
      ]
    },
    {
      "cell_type": "code",
      "source": [
        "child = pd.crosstab(df['CNT_CHILDREN'], df['TARGET'], normalize='index')\n",
        "child.plot.bar(stacked=True)"
      ],
      "metadata": {
        "colab": {
          "base_uri": "https://localhost:8080/",
          "height": 294
        },
        "id": "ZTRdYpQbiFtB",
        "outputId": "6c561732-6439-4155-e36c-4e557c4e62e2"
      },
      "execution_count": 31,
      "outputs": [
        {
          "output_type": "execute_result",
          "data": {
            "text/plain": [
              "<matplotlib.axes._subplots.AxesSubplot at 0x7f6b981ac310>"
            ]
          },
          "metadata": {},
          "execution_count": 31
        },
        {
          "output_type": "display_data",
          "data": {
            "text/plain": [
              "<Figure size 432x288 with 1 Axes>"
            ],
            "image/png": "[encoded data removed]"
          },
          "metadata": {
            "needs_background": "light"
          }
        }
      ]
    },
    {
      "cell_type": "code",
      "source": [
        "sns.countplot(df[\"CNT_FAM_MEMBERS\"])"
      ],
      "metadata": {
        "colab": {
          "base_uri": "https://localhost:8080/",
          "height": 352
        },
        "id": "ccEWTZI9iI3Z",
        "outputId": "be530b62-9484-4075-c5c5-b985baa4e203"
      },
      "execution_count": 32,
      "outputs": [
        {
          "output_type": "stream",
          "name": "stderr",
          "text": [
            "/usr/local/lib/python3.7/dist-packages/seaborn/_decorators.py:43: FutureWarning: Pass the following variable as a keyword arg: x. From version 0.12, the only valid positional argument will be `data`, and passing other arguments without an explicit keyword will result in an error or misinterpretation.\n",
            "  FutureWarning\n"
          ]
        },
        {
          "output_type": "execute_result",
          "data": {
            "text/plain": [
              "<matplotlib.axes._subplots.AxesSubplot at 0x7f6b981c3a50>"
            ]
          },
          "metadata": {},
          "execution_count": 32
        },
        {
          "output_type": "display_data",
          "data": {
            "text/plain": [
              "<Figure size 432x288 with 1 Axes>"
            ],
            "image/png": "[encoded data removed]"
          },
          "metadata": {
            "needs_background": "light"
          }
        }
      ]
    },
    {
      "cell_type": "code",
      "source": [
        "fam = pd.crosstab(df['CNT_FAM_MEMBERS'], df['TARGET'], normalize='index')\n",
        "fam.plot.bar(stacked=True)"
      ],
      "metadata": {
        "colab": {
          "base_uri": "https://localhost:8080/",
          "height": 309
        },
        "id": "2M9N2v__iQBd",
        "outputId": "3a116265-7380-4eec-9050-c4a24cb89b8f"
      },
      "execution_count": 33,
      "outputs": [
        {
          "output_type": "execute_result",
          "data": {
            "text/plain": [
              "<matplotlib.axes._subplots.AxesSubplot at 0x7f6b98065cd0>"
            ]
          },
          "metadata": {},
          "execution_count": 33
        },
        {
          "output_type": "display_data",
          "data": {
            "text/plain": [
              "<Figure size 432x288 with 1 Axes>"
            ],
            "image/png": "[encoded data removed]"
          },
          "metadata": {
            "needs_background": "light"
          }
        }
      ]
    },
    {
      "cell_type": "code",
      "source": [
        "fig,ax = plt.subplots(figsize=(15,4))\n",
        "sns.countplot(df[\"NAME_INCOME_TYPE\"])"
      ],
      "metadata": {
        "colab": {
          "base_uri": "https://localhost:8080/",
          "height": 352
        },
        "id": "OqwxB_Y8iTk0",
        "outputId": "13a0174a-2cfe-4468-a6c0-b0bb5c03ac8b"
      },
      "execution_count": 34,
      "outputs": [
        {
          "output_type": "stream",
          "name": "stderr",
          "text": [
            "/usr/local/lib/python3.7/dist-packages/seaborn/_decorators.py:43: FutureWarning: Pass the following variable as a keyword arg: x. From version 0.12, the only valid positional argument will be `data`, and passing other arguments without an explicit keyword will result in an error or misinterpretation.\n",
            "  FutureWarning\n"
          ]
        },
        {
          "output_type": "execute_result",
          "data": {
            "text/plain": [
              "<matplotlib.axes._subplots.AxesSubplot at 0x7f6b98082310>"
            ]
          },
          "metadata": {},
          "execution_count": 34
        },
        {
          "output_type": "display_data",
          "data": {
            "text/plain": [
              "<Figure size 1080x288 with 1 Axes>"
            ],
            "image/png": "[encoded data removed]"
          },
          "metadata": {
            "needs_background": "light"
          }
        }
      ]
    },
    {
      "cell_type": "code",
      "source": [
        "income_tp = pd.crosstab(df['NAME_INCOME_TYPE'], df['TARGET'], normalize='index')\n",
        "income_tp.plot.bar(stacked=True)"
      ],
      "metadata": {
        "colab": {
          "base_uri": "https://localhost:8080/",
          "height": 397
        },
        "id": "ugIs9WwJiWZR",
        "outputId": "3e4b349b-536b-430a-b75b-ced2caea5aae"
      },
      "execution_count": 36,
      "outputs": [
        {
          "output_type": "execute_result",
          "data": {
            "text/plain": [
              "<matplotlib.axes._subplots.AxesSubplot at 0x7f6b97f30210>"
            ]
          },
          "metadata": {},
          "execution_count": 36
        },
        {
          "output_type": "display_data",
          "data": {
            "text/plain": [
              "<Figure size 432x288 with 1 Axes>"
            ],
            "image/png": "[encoded data removed]"
          },
          "metadata": {
            "needs_background": "light"
          }
        }
      ]
    },
    {
      "cell_type": "code",
      "source": [
        "plt.figure(figsize=(20,5))\n",
        "sns.countplot(df[\"OCCUPATION_TYPE\"])"
      ],
      "metadata": {
        "colab": {
          "base_uri": "https://localhost:8080/",
          "height": 407
        },
        "id": "1KIFy0ngihnf",
        "outputId": "8c5cc581-c8fa-4a9a-fce5-11290d912bbe"
      },
      "execution_count": 37,
      "outputs": [
        {
          "output_type": "stream",
          "name": "stderr",
          "text": [
            "/usr/local/lib/python3.7/dist-packages/seaborn/_decorators.py:43: FutureWarning: Pass the following variable as a keyword arg: x. From version 0.12, the only valid positional argument will be `data`, and passing other arguments without an explicit keyword will result in an error or misinterpretation.\n",
            "  FutureWarning\n"
          ]
        },
        {
          "output_type": "execute_result",
          "data": {
            "text/plain": [
              "<matplotlib.axes._subplots.AxesSubplot at 0x7f6b97fb7310>"
            ]
          },
          "metadata": {},
          "execution_count": 37
        },
        {
          "output_type": "display_data",
          "data": {
            "text/plain": [
              "<Figure size 1440x360 with 1 Axes>"
            ],
            "image/png": "[encoded data removed]"
          },
          "metadata": {
            "needs_background": "light"
          }
        }
      ]
    },
    {
      "cell_type": "code",
      "source": [
        "age = df[\"DAYS_BIRTH\"]/-365\n",
        "sns.distplot(age)"
      ],
      "metadata": {
        "colab": {
          "base_uri": "https://localhost:8080/",
          "height": 352
        },
        "id": "gXHutRxFikDp",
        "outputId": "0b2b591f-51dd-4b55-8318-b0948d598ee3"
      },
      "execution_count": 38,
      "outputs": [
        {
          "output_type": "stream",
          "name": "stderr",
          "text": [
            "/usr/local/lib/python3.7/dist-packages/seaborn/distributions.py:2619: FutureWarning: `distplot` is a deprecated function and will be removed in a future version. Please adapt your code to use either `displot` (a figure-level function with similar flexibility) or `histplot` (an axes-level function for histograms).\n",
            "  warnings.warn(msg, FutureWarning)\n"
          ]
        },
        {
          "output_type": "execute_result",
          "data": {
            "text/plain": [
              "<matplotlib.axes._subplots.AxesSubplot at 0x7f6b97dfeb50>"
            ]
          },
          "metadata": {},
          "execution_count": 38
        },
        {
          "output_type": "display_data",
          "data": {
            "text/plain": [
              "<Figure size 432x288 with 1 Axes>"
            ],
            "image/png": "[encoded data removed]"
          },
          "metadata": {
            "needs_background": "light"
          }
        }
      ]
    },
    {
      "cell_type": "code",
      "source": [
        "t0 = df.loc[df[\"TARGET\"]==0]\n",
        "t1 = df.loc[df[\"TARGET\"]==1]\n",
        "\n",
        "sns.kdeplot(t0[\"DAYS_BIRTH\"]/-365,label=\"TARGET=0\")\n",
        "sns.kdeplot(t1[\"DAYS_BIRTH\"]/-365,label=\"TARGET=1\")\n",
        "plt.legend()"
      ],
      "metadata": {
        "colab": {
          "base_uri": "https://localhost:8080/",
          "height": 297
        },
        "id": "wBbr-FurinKG",
        "outputId": "2fa54199-2361-4156-cc0e-43380dd8bcda"
      },
      "execution_count": 39,
      "outputs": [
        {
          "output_type": "execute_result",
          "data": {
            "text/plain": [
              "<matplotlib.legend.Legend at 0x7f6b97d23ad0>"
            ]
          },
          "metadata": {},
          "execution_count": 39
        },
        {
          "output_type": "display_data",
          "data": {
            "text/plain": [
              "<Figure size 432x288 with 1 Axes>"
            ],
            "image/png": "[encoded data removed]"
          },
          "metadata": {
            "needs_background": "light"
          }
        }
      ]
    },
    {
      "cell_type": "code",
      "source": [
        "df['NAME_INCOME_TYPE'].unique()"
      ],
      "metadata": {
        "colab": {
          "base_uri": "https://localhost:8080/"
        },
        "id": "eQdcm5MZiqkS",
        "outputId": "ea0ccbb8-8715-4c4c-9f19-affcd5943592"
      },
      "execution_count": 40,
      "outputs": [
        {
          "output_type": "execute_result",
          "data": {
            "text/plain": [
              "array(['Working', 'State servant', 'Commercial associate', 'Pensioner',\n",
              "       'Unemployed', 'Student'], dtype=object)"
            ]
          },
          "metadata": {},
          "execution_count": 40
        }
      ]
    },
    {
      "cell_type": "code",
      "source": [
        "it_un = df.loc[df['NAME_INCOME_TYPE']==\"Unemployed\"]\n",
        "it_ml = df.loc[df['NAME_INCOME_TYPE']=='Maternity leave']\n",
        "sns.kdeplot(it_un[\"DAYS_BIRTH\"]/-365,label=\"Unemployed\")\n",
        "sns.kdeplot(it_ml[\"DAYS_BIRTH\"]/-365,label='Maternity leave')\n",
        "plt.legend()"
      ],
      "metadata": {
        "colab": {
          "base_uri": "https://localhost:8080/",
          "height": 297
        },
        "id": "c-FDQ14TitkT",
        "outputId": "e65fd282-d9ac-4649-80e5-ee1740070745"
      },
      "execution_count": 42,
      "outputs": [
        {
          "output_type": "execute_result",
          "data": {
            "text/plain": [
              "<matplotlib.legend.Legend at 0x7f6b97e03890>"
            ]
          },
          "metadata": {},
          "execution_count": 42
        },
        {
          "output_type": "display_data",
          "data": {
            "text/plain": [
              "<Figure size 432x288 with 1 Axes>"
            ],
            "image/png": "[encoded data removed]"
          },
          "metadata": {
            "needs_background": "light"
          }
        }
      ]
    }
  ]
}